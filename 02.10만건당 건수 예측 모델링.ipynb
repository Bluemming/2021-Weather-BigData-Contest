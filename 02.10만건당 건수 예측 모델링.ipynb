{
 "cells": [
  {
   "cell_type": "markdown",
   "metadata": {
    "toc": true
   },
   "source": [
    "<h1>Table of Contents<span class=\"tocSkip\"></span></h1>\n",
    "<div class=\"toc\"><ul class=\"toc-item\"><li><span><a href=\"#1.-이상치-처리\" data-toc-modified-id=\"1.-이상치-처리-1\">1. 이상치 처리</a></span></li><li><span><a href=\"#2.-타깃-값-로그-변환\" data-toc-modified-id=\"2.-타깃-값-로그-변환-2\">2. 타깃 값 로그 변환</a></span></li><li><span><a href=\"#3.-범주형-&amp;-연속형-변수-처리\" data-toc-modified-id=\"3.-범주형-&amp;-연속형-변수-처리-3\">3. 범주형 &amp; 연속형 변수 처리</a></span></li><li><span><a href=\"#4.-Extra-Trees-Regressor-모델-학습\" data-toc-modified-id=\"4.-Extra-Trees-Regressor-모델-학습-4\">4. Extra Trees Regressor 모델 학습</a></span></li><li><span><a href=\"#5.-예측-모델-저장\" data-toc-modified-id=\"5.-예측-모델-저장-5\">5. 예측 모델 저장</a></span></li><li><span><a href=\"#6.-예측-템플릿-생성-및-모델-적용\" data-toc-modified-id=\"6.-예측-템플릿-생성-및-모델-적용-6\">6. 예측 템플릿 생성 및 모델 적용</a></span></li></ul></div>"
   ]
  },
  {
   "cell_type": "code",
   "execution_count": 1,
   "metadata": {},
   "outputs": [],
   "source": [
    "import numpy as np\n",
    "import pandas as pd\n",
    "import matplotlib.pyplot as plt\n",
    "plt.rcParams['font.family'] = 'Malgun Gothic'\n",
    "import seaborn as sns\n",
    "%matplotlib inline\n",
    "from datetime import datetime\n",
    "\n",
    "import warnings\n",
    "warnings.filterwarnings('ignore')"
   ]
  },
  {
   "cell_type": "code",
   "execution_count": 2,
   "metadata": {},
   "outputs": [
    {
     "name": "stdout",
     "output_type": "stream",
     "text": [
      "(2056899, 17)\n"
     ]
    },
    {
     "data": {
      "text/html": [
       "<div>\n",
       "<style scoped>\n",
       "    .dataframe tbody tr th:only-of-type {\n",
       "        vertical-align: middle;\n",
       "    }\n",
       "\n",
       "    .dataframe tbody tr th {\n",
       "        vertical-align: top;\n",
       "    }\n",
       "\n",
       "    .dataframe thead th {\n",
       "        text-align: right;\n",
       "    }\n",
       "</style>\n",
       "<table border=\"1\" class=\"dataframe\">\n",
       "  <thead>\n",
       "    <tr style=\"text-align: right;\">\n",
       "      <th></th>\n",
       "      <th>계절</th>\n",
       "      <th>월</th>\n",
       "      <th>일</th>\n",
       "      <th>요일</th>\n",
       "      <th>공휴일</th>\n",
       "      <th>성별</th>\n",
       "      <th>연령대</th>\n",
       "      <th>대분류명</th>\n",
       "      <th>소분류명</th>\n",
       "      <th>평균일강수량(mm)</th>\n",
       "      <th>평균풍속(km/h)</th>\n",
       "      <th>평균습도(%rh)</th>\n",
       "      <th>일조합</th>\n",
       "      <th>체감온도(℃)</th>\n",
       "      <th>일 미세먼지 농도(㎍/㎥)</th>\n",
       "      <th>10만건당 건수</th>\n",
       "      <th>구매건수</th>\n",
       "    </tr>\n",
       "  </thead>\n",
       "  <tbody>\n",
       "    <tr>\n",
       "      <th>0</th>\n",
       "      <td>겨울</td>\n",
       "      <td>1</td>\n",
       "      <td>1</td>\n",
       "      <td>0</td>\n",
       "      <td>1.0</td>\n",
       "      <td>F</td>\n",
       "      <td>20</td>\n",
       "      <td>식품</td>\n",
       "      <td>가공란</td>\n",
       "      <td>0.0</td>\n",
       "      <td>6.84</td>\n",
       "      <td>51.0</td>\n",
       "      <td>8.7</td>\n",
       "      <td>-2.810026</td>\n",
       "      <td>32.962963</td>\n",
       "      <td>0.480964</td>\n",
       "      <td>37</td>\n",
       "    </tr>\n",
       "    <tr>\n",
       "      <th>1</th>\n",
       "      <td>겨울</td>\n",
       "      <td>1</td>\n",
       "      <td>1</td>\n",
       "      <td>0</td>\n",
       "      <td>1.0</td>\n",
       "      <td>F</td>\n",
       "      <td>30</td>\n",
       "      <td>식품</td>\n",
       "      <td>가공란</td>\n",
       "      <td>0.0</td>\n",
       "      <td>6.84</td>\n",
       "      <td>51.0</td>\n",
       "      <td>8.7</td>\n",
       "      <td>-2.810026</td>\n",
       "      <td>32.962963</td>\n",
       "      <td>0.480964</td>\n",
       "      <td>16</td>\n",
       "    </tr>\n",
       "    <tr>\n",
       "      <th>2</th>\n",
       "      <td>겨울</td>\n",
       "      <td>1</td>\n",
       "      <td>1</td>\n",
       "      <td>0</td>\n",
       "      <td>1.0</td>\n",
       "      <td>F</td>\n",
       "      <td>40</td>\n",
       "      <td>식품</td>\n",
       "      <td>가공란</td>\n",
       "      <td>0.0</td>\n",
       "      <td>6.84</td>\n",
       "      <td>51.0</td>\n",
       "      <td>8.7</td>\n",
       "      <td>-2.810026</td>\n",
       "      <td>32.962963</td>\n",
       "      <td>0.480964</td>\n",
       "      <td>9</td>\n",
       "    </tr>\n",
       "  </tbody>\n",
       "</table>\n",
       "</div>"
      ],
      "text/plain": [
       "   계절  월  일  요일  공휴일 성별  연령대 대분류명 소분류명  평균일강수량(mm)  평균풍속(km/h)  평균습도(%rh)  \\\n",
       "0  겨울  1  1   0  1.0  F   20   식품  가공란         0.0        6.84       51.0   \n",
       "1  겨울  1  1   0  1.0  F   30   식품  가공란         0.0        6.84       51.0   \n",
       "2  겨울  1  1   0  1.0  F   40   식품  가공란         0.0        6.84       51.0   \n",
       "\n",
       "   일조합   체감온도(℃)  일 미세먼지 농도(㎍/㎥)  10만건당 건수  구매건수  \n",
       "0  8.7 -2.810026       32.962963  0.480964    37  \n",
       "1  8.7 -2.810026       32.962963  0.480964    16  \n",
       "2  8.7 -2.810026       32.962963  0.480964     9  "
      ]
     },
     "execution_count": 2,
     "metadata": {},
     "output_type": "execute_result"
    }
   ],
   "source": [
    "data = pd.read_csv('./data/total_data.csv')\n",
    "print(data.shape)\n",
    "data.head(3)"
   ]
  },
  {
   "cell_type": "code",
   "execution_count": 3,
   "metadata": {},
   "outputs": [
    {
     "name": "stdout",
     "output_type": "stream",
     "text": [
      "(695969, 13)\n"
     ]
    },
    {
     "data": {
      "text/html": [
       "<div>\n",
       "<style scoped>\n",
       "    .dataframe tbody tr th:only-of-type {\n",
       "        vertical-align: middle;\n",
       "    }\n",
       "\n",
       "    .dataframe tbody tr th {\n",
       "        vertical-align: top;\n",
       "    }\n",
       "\n",
       "    .dataframe thead th {\n",
       "        text-align: right;\n",
       "    }\n",
       "</style>\n",
       "<table border=\"1\" class=\"dataframe\">\n",
       "  <thead>\n",
       "    <tr style=\"text-align: right;\">\n",
       "      <th></th>\n",
       "      <th>계절</th>\n",
       "      <th>월</th>\n",
       "      <th>일</th>\n",
       "      <th>요일</th>\n",
       "      <th>공휴일</th>\n",
       "      <th>성별</th>\n",
       "      <th>연령대</th>\n",
       "      <th>소분류명</th>\n",
       "      <th>평균일강수량(mm)</th>\n",
       "      <th>평균풍속(km/h)</th>\n",
       "      <th>체감온도(℃)</th>\n",
       "      <th>일 미세먼지 농도(㎍/㎥)</th>\n",
       "      <th>10만건당 건수</th>\n",
       "    </tr>\n",
       "  </thead>\n",
       "  <tbody>\n",
       "    <tr>\n",
       "      <th>0</th>\n",
       "      <td>겨울</td>\n",
       "      <td>1</td>\n",
       "      <td>1</td>\n",
       "      <td>0</td>\n",
       "      <td>1.0</td>\n",
       "      <td>F</td>\n",
       "      <td>20</td>\n",
       "      <td>기능성 링클케어 화장품</td>\n",
       "      <td>0.0</td>\n",
       "      <td>6.84</td>\n",
       "      <td>-2.810026</td>\n",
       "      <td>32.962963</td>\n",
       "      <td>12.154295</td>\n",
       "    </tr>\n",
       "    <tr>\n",
       "      <th>1</th>\n",
       "      <td>겨울</td>\n",
       "      <td>1</td>\n",
       "      <td>1</td>\n",
       "      <td>0</td>\n",
       "      <td>1.0</td>\n",
       "      <td>F</td>\n",
       "      <td>40</td>\n",
       "      <td>기능성 링클케어 화장품</td>\n",
       "      <td>0.0</td>\n",
       "      <td>6.84</td>\n",
       "      <td>-2.810026</td>\n",
       "      <td>32.962963</td>\n",
       "      <td>12.154295</td>\n",
       "    </tr>\n",
       "    <tr>\n",
       "      <th>2</th>\n",
       "      <td>겨울</td>\n",
       "      <td>1</td>\n",
       "      <td>1</td>\n",
       "      <td>0</td>\n",
       "      <td>1.0</td>\n",
       "      <td>F</td>\n",
       "      <td>20</td>\n",
       "      <td>기능성 모공관리 화장품</td>\n",
       "      <td>0.0</td>\n",
       "      <td>6.84</td>\n",
       "      <td>-2.810026</td>\n",
       "      <td>32.962963</td>\n",
       "      <td>36.000828</td>\n",
       "    </tr>\n",
       "  </tbody>\n",
       "</table>\n",
       "</div>"
      ],
      "text/plain": [
       "   계절  월  일  요일  공휴일 성별  연령대          소분류명  평균일강수량(mm)  평균풍속(km/h)   체감온도(℃)  \\\n",
       "0  겨울  1  1   0  1.0  F   20  기능성 링클케어 화장품         0.0        6.84 -2.810026   \n",
       "1  겨울  1  1   0  1.0  F   40  기능성 링클케어 화장품         0.0        6.84 -2.810026   \n",
       "2  겨울  1  1   0  1.0  F   20  기능성 모공관리 화장품         0.0        6.84 -2.810026   \n",
       "\n",
       "   일 미세먼지 농도(㎍/㎥)   10만건당 건수  \n",
       "0       32.962963  12.154295  \n",
       "1       32.962963  12.154295  \n",
       "2       32.962963  36.000828  "
      ]
     },
     "execution_count": 3,
     "metadata": {},
     "output_type": "execute_result"
    }
   ],
   "source": [
    "beauty = data[data['대분류명']=='뷰티']\n",
    "beauty.drop(['대분류명','평균습도(%rh)','일조합','구매건수'], axis=1, inplace=True)\n",
    "beauty.dropna(inplace=True)\n",
    "beauty.reset_index(drop=True, inplace=True)\n",
    "print(beauty.shape)\n",
    "beauty.head(3)"
   ]
  },
  {
   "cell_type": "markdown",
   "metadata": {},
   "source": [
    "대분류명, 평균습도(다중공선성 문제), 일조합(추후 데이터 수집 문제), 구매건수 변수 제외 및 결측치 제거"
   ]
  },
  {
   "cell_type": "code",
   "execution_count": 4,
   "metadata": {},
   "outputs": [],
   "source": [
    "봄 = beauty[beauty['계절']=='봄'].reset_index(drop=True).drop('계절', axis=1)\n",
    "여름 = beauty[beauty['계절']=='여름'].reset_index(drop=True).drop('계절', axis=1)\n",
    "가을 = beauty[beauty['계절']=='가을'].reset_index(drop=True).drop('계절', axis=1)\n",
    "겨울 = beauty[beauty['계절']=='겨울'].reset_index(drop=True).drop('계절', axis=1)"
   ]
  },
  {
   "cell_type": "markdown",
   "metadata": {},
   "source": [
    "# 1. 이상치 처리"
   ]
  },
  {
   "cell_type": "code",
   "execution_count": 60,
   "metadata": {},
   "outputs": [],
   "source": [
    "# 봄 데이터 이상치 확인\n",
    "def outliers(data):\n",
    "    q1, q3 = np.percentile(data, [25,75])\n",
    "    iqr = q3 - q1\n",
    "    upper_bound = q3 + (iqr * 1.5)\n",
    "    lower_bound = q1 - (iqr * 1.5)\n",
    "    return np.where((data > upper_bound) | (data < lower_bound))"
   ]
  },
  {
   "cell_type": "code",
   "execution_count": 61,
   "metadata": {
    "scrolled": true
   },
   "outputs": [
    {
     "name": "stdout",
     "output_type": "stream",
     "text": [
      "(178079, 12)\n"
     ]
    },
    {
     "data": {
      "text/html": [
       "<div>\n",
       "<style scoped>\n",
       "    .dataframe tbody tr th:only-of-type {\n",
       "        vertical-align: middle;\n",
       "    }\n",
       "\n",
       "    .dataframe tbody tr th {\n",
       "        vertical-align: top;\n",
       "    }\n",
       "\n",
       "    .dataframe thead th {\n",
       "        text-align: right;\n",
       "    }\n",
       "</style>\n",
       "<table border=\"1\" class=\"dataframe\">\n",
       "  <thead>\n",
       "    <tr style=\"text-align: right;\">\n",
       "      <th></th>\n",
       "      <th>월</th>\n",
       "      <th>일</th>\n",
       "      <th>요일</th>\n",
       "      <th>공휴일</th>\n",
       "      <th>성별</th>\n",
       "      <th>연령대</th>\n",
       "      <th>소분류명</th>\n",
       "      <th>평균일강수량(mm)</th>\n",
       "      <th>평균풍속(km/h)</th>\n",
       "      <th>체감온도(℃)</th>\n",
       "      <th>일 미세먼지 농도(㎍/㎥)</th>\n",
       "      <th>10만건당 건수</th>\n",
       "    </tr>\n",
       "  </thead>\n",
       "  <tbody>\n",
       "    <tr>\n",
       "      <th>0</th>\n",
       "      <td>3</td>\n",
       "      <td>1</td>\n",
       "      <td>3</td>\n",
       "      <td>1.0</td>\n",
       "      <td>F</td>\n",
       "      <td>20</td>\n",
       "      <td>화장 퍼프</td>\n",
       "      <td>0.9</td>\n",
       "      <td>7.619634</td>\n",
       "      <td>-1.216191</td>\n",
       "      <td>33.592593</td>\n",
       "      <td>21.806179</td>\n",
       "    </tr>\n",
       "    <tr>\n",
       "      <th>1</th>\n",
       "      <td>3</td>\n",
       "      <td>1</td>\n",
       "      <td>3</td>\n",
       "      <td>1.0</td>\n",
       "      <td>F</td>\n",
       "      <td>30</td>\n",
       "      <td>화장 퍼프</td>\n",
       "      <td>0.9</td>\n",
       "      <td>7.619634</td>\n",
       "      <td>-1.216191</td>\n",
       "      <td>33.592593</td>\n",
       "      <td>21.806179</td>\n",
       "    </tr>\n",
       "    <tr>\n",
       "      <th>2</th>\n",
       "      <td>3</td>\n",
       "      <td>1</td>\n",
       "      <td>3</td>\n",
       "      <td>1.0</td>\n",
       "      <td>F</td>\n",
       "      <td>40</td>\n",
       "      <td>화장 퍼프</td>\n",
       "      <td>0.9</td>\n",
       "      <td>7.619634</td>\n",
       "      <td>-1.216191</td>\n",
       "      <td>33.592593</td>\n",
       "      <td>21.806179</td>\n",
       "    </tr>\n",
       "  </tbody>\n",
       "</table>\n",
       "</div>"
      ],
      "text/plain": [
       "   월  일  요일  공휴일 성별  연령대   소분류명  평균일강수량(mm)  평균풍속(km/h)   체감온도(℃)  \\\n",
       "0  3  1   3  1.0  F   20  화장 퍼프         0.9    7.619634 -1.216191   \n",
       "1  3  1   3  1.0  F   30  화장 퍼프         0.9    7.619634 -1.216191   \n",
       "2  3  1   3  1.0  F   40  화장 퍼프         0.9    7.619634 -1.216191   \n",
       "\n",
       "   일 미세먼지 농도(㎍/㎥)   10만건당 건수  \n",
       "0       33.592593  21.806179  \n",
       "1       33.592593  21.806179  \n",
       "2       33.592593  21.806179  "
      ]
     },
     "execution_count": 61,
     "metadata": {},
     "output_type": "execute_result"
    }
   ],
   "source": [
    "강수량_idx = outliers(봄['평균일강수량(mm)'])[0]\n",
    "미세먼지_idx = outliers(봄['일 미세먼지 농도(㎍/㎥)'])[0]\n",
    "풍속_idx = outliers(봄['평균풍속(km/h)'])[0]\n",
    "\n",
    "# 이상치 평균으로 처리\n",
    "강수량_mean = 봄['평균일강수량(mm)'].mean()\n",
    "봄.loc[강수량_idx, '평균일강수량(mm)'] = 강수량_mean\n",
    "\n",
    "미세먼지_mean = 봄['일 미세먼지 농도(㎍/㎥)'].mean()\n",
    "봄.loc[미세먼지_idx, '일 미세먼지 농도(㎍/㎥)'] = 미세먼지_mean\n",
    "\n",
    "풍속_mean = 봄['평균풍속(km/h)'].mean()\n",
    "봄.loc[풍속_idx, '평균풍속(km/h)'] = 풍속_mean\n",
    "\n",
    "print(봄.shape)\n",
    "봄.head(3)"
   ]
  },
  {
   "cell_type": "markdown",
   "metadata": {},
   "source": [
    "# 2. 타깃 값 로그 변환"
   ]
  },
  {
   "cell_type": "code",
   "execution_count": 62,
   "metadata": {},
   "outputs": [
    {
     "data": {
      "text/plain": [
       "<matplotlib.axes._subplots.AxesSubplot at 0x2484e0f7610>"
      ]
     },
     "execution_count": 62,
     "metadata": {},
     "output_type": "execute_result"
    },
    {
     "data": {
      "image/png": "[encoded data removed]",
      "text/plain": [
       "<Figure size 432x288 with 1 Axes>"
      ]
     },
     "metadata": {
      "needs_background": "light"
     },
     "output_type": "display_data"
    }
   ],
   "source": [
    "# Target 값 분포 확인 및 로그 변환\n",
    "sns.distplot(봄['10만건당 건수'])"
   ]
  },
  {
   "cell_type": "code",
   "execution_count": 63,
   "metadata": {
    "scrolled": true
   },
   "outputs": [
    {
     "data": {
      "text/plain": [
       "<matplotlib.axes._subplots.AxesSubplot at 0x2484fc32670>"
      ]
     },
     "execution_count": 63,
     "metadata": {},
     "output_type": "execute_result"
    },
    {
     "data": {
      "image/png": "[encoded data removed]",
      "text/plain": [
       "<Figure size 432x288 with 1 Axes>"
      ]
     },
     "metadata": {
      "needs_background": "light"
     },
     "output_type": "display_data"
    }
   ],
   "source": [
    "봄['10만건당 건수'] = np.log1p(봄[\"10만건당 건수\"])\n",
    "sns.distplot(봄['10만건당 건수'])"
   ]
  },
  {
   "cell_type": "markdown",
   "metadata": {},
   "source": [
    "# 3. 범주형 & 연속형 변수 처리"
   ]
  },
  {
   "cell_type": "code",
   "execution_count": 64,
   "metadata": {},
   "outputs": [
    {
     "name": "stdout",
     "output_type": "stream",
     "text": [
      "<class 'pandas.core.frame.DataFrame'>\n",
      "RangeIndex: 178079 entries, 0 to 178078\n",
      "Data columns (total 12 columns):\n",
      " #   Column          Non-Null Count   Dtype  \n",
      "---  ------          --------------   -----  \n",
      " 0   월               178079 non-null  int64  \n",
      " 1   일               178079 non-null  int64  \n",
      " 2   요일              178079 non-null  int64  \n",
      " 3   공휴일             178079 non-null  float64\n",
      " 4   성별              178079 non-null  object \n",
      " 5   연령대             178079 non-null  int64  \n",
      " 6   소분류명            178079 non-null  object \n",
      " 7   평균일강수량(mm)      178079 non-null  float64\n",
      " 8   평균풍속(km/h)      178079 non-null  float64\n",
      " 9   체감온도(℃)         178079 non-null  float64\n",
      " 10  일 미세먼지 농도(㎍/㎥)  178079 non-null  float64\n",
      " 11  10만건당 건수        178079 non-null  float64\n",
      "dtypes: float64(6), int64(4), object(2)\n",
      "memory usage: 16.3+ MB\n"
     ]
    }
   ],
   "source": [
    "봄.info()"
   ]
  },
  {
   "cell_type": "code",
   "execution_count": 65,
   "metadata": {},
   "outputs": [
    {
     "data": {
      "text/html": [
       "<div>\n",
       "<style scoped>\n",
       "    .dataframe tbody tr th:only-of-type {\n",
       "        vertical-align: middle;\n",
       "    }\n",
       "\n",
       "    .dataframe tbody tr th {\n",
       "        vertical-align: top;\n",
       "    }\n",
       "\n",
       "    .dataframe thead th {\n",
       "        text-align: right;\n",
       "    }\n",
       "</style>\n",
       "<table border=\"1\" class=\"dataframe\">\n",
       "  <thead>\n",
       "    <tr style=\"text-align: right;\">\n",
       "      <th></th>\n",
       "      <th>성별</th>\n",
       "      <th>소분류명</th>\n",
       "    </tr>\n",
       "  </thead>\n",
       "  <tbody>\n",
       "    <tr>\n",
       "      <th>0</th>\n",
       "      <td>0</td>\n",
       "      <td>130</td>\n",
       "    </tr>\n",
       "    <tr>\n",
       "      <th>1</th>\n",
       "      <td>0</td>\n",
       "      <td>130</td>\n",
       "    </tr>\n",
       "    <tr>\n",
       "      <th>2</th>\n",
       "      <td>0</td>\n",
       "      <td>130</td>\n",
       "    </tr>\n",
       "  </tbody>\n",
       "</table>\n",
       "</div>"
      ],
      "text/plain": [
       "   성별  소분류명\n",
       "0   0   130\n",
       "1   0   130\n",
       "2   0   130"
      ]
     },
     "execution_count": 65,
     "metadata": {},
     "output_type": "execute_result"
    }
   ],
   "source": [
    "# 범주형 변수 레이블 인코딩\n",
    "# 트리 계열 모델은 숫자의 차이에 영향을 받지 않으므로 레이블 인코딩을 사용해도 무방\n",
    "from sklearn.preprocessing import LabelEncoder\n",
    "\n",
    "le = LabelEncoder()\n",
    "le = le.fit(봄['성별'])\n",
    "봄['성별'] = le.transform(봄['성별'])\n",
    "\n",
    "le2 = LabelEncoder()\n",
    "le2 = le2.fit(봄['소분류명'])\n",
    "봄['소분류명'] = le2.transform(봄['소분류명'])\n",
    "\n",
    "label_df = 봄[['성별','소분류명']]\n",
    "label_df.head(3)"
   ]
  },
  {
   "cell_type": "code",
   "execution_count": 66,
   "metadata": {},
   "outputs": [
    {
     "data": {
      "text/html": [
       "<div>\n",
       "<style scoped>\n",
       "    .dataframe tbody tr th:only-of-type {\n",
       "        vertical-align: middle;\n",
       "    }\n",
       "\n",
       "    .dataframe tbody tr th {\n",
       "        vertical-align: top;\n",
       "    }\n",
       "\n",
       "    .dataframe thead th {\n",
       "        text-align: right;\n",
       "    }\n",
       "</style>\n",
       "<table border=\"1\" class=\"dataframe\">\n",
       "  <thead>\n",
       "    <tr style=\"text-align: right;\">\n",
       "      <th></th>\n",
       "      <th>월</th>\n",
       "      <th>일</th>\n",
       "      <th>요일</th>\n",
       "      <th>공휴일</th>\n",
       "      <th>연령대</th>\n",
       "      <th>평균일강수량(mm)</th>\n",
       "      <th>평균풍속(km/h)</th>\n",
       "      <th>체감온도(℃)</th>\n",
       "      <th>일 미세먼지 농도(㎍/㎥)</th>\n",
       "    </tr>\n",
       "  </thead>\n",
       "  <tbody>\n",
       "    <tr>\n",
       "      <th>0</th>\n",
       "      <td>-1.222685</td>\n",
       "      <td>-1.671889</td>\n",
       "      <td>0.010821</td>\n",
       "      <td>4.743034</td>\n",
       "      <td>-1.347453</td>\n",
       "      <td>0.08263</td>\n",
       "      <td>0.120131</td>\n",
       "      <td>-2.172891</td>\n",
       "      <td>-0.096452</td>\n",
       "    </tr>\n",
       "    <tr>\n",
       "      <th>1</th>\n",
       "      <td>-1.222685</td>\n",
       "      <td>-1.671889</td>\n",
       "      <td>0.010821</td>\n",
       "      <td>4.743034</td>\n",
       "      <td>-0.589920</td>\n",
       "      <td>0.08263</td>\n",
       "      <td>0.120131</td>\n",
       "      <td>-2.172891</td>\n",
       "      <td>-0.096452</td>\n",
       "    </tr>\n",
       "    <tr>\n",
       "      <th>2</th>\n",
       "      <td>-1.222685</td>\n",
       "      <td>-1.671889</td>\n",
       "      <td>0.010821</td>\n",
       "      <td>4.743034</td>\n",
       "      <td>0.167613</td>\n",
       "      <td>0.08263</td>\n",
       "      <td>0.120131</td>\n",
       "      <td>-2.172891</td>\n",
       "      <td>-0.096452</td>\n",
       "    </tr>\n",
       "  </tbody>\n",
       "</table>\n",
       "</div>"
      ],
      "text/plain": [
       "          월         일        요일       공휴일       연령대  평균일강수량(mm)  평균풍속(km/h)  \\\n",
       "0 -1.222685 -1.671889  0.010821  4.743034 -1.347453     0.08263    0.120131   \n",
       "1 -1.222685 -1.671889  0.010821  4.743034 -0.589920     0.08263    0.120131   \n",
       "2 -1.222685 -1.671889  0.010821  4.743034  0.167613     0.08263    0.120131   \n",
       "\n",
       "    체감온도(℃)  일 미세먼지 농도(㎍/㎥)  \n",
       "0 -2.172891       -0.096452  \n",
       "1 -2.172891       -0.096452  \n",
       "2 -2.172891       -0.096452  "
      ]
     },
     "execution_count": 66,
     "metadata": {},
     "output_type": "execute_result"
    }
   ],
   "source": [
    "# 연속형 변수 스케일링\n",
    "from sklearn.preprocessing import StandardScaler\n",
    "\n",
    "nu = 봄.drop(['성별','소분류명','10만건당 건수'], axis=1)\n",
    "\n",
    "scaler = StandardScaler()\n",
    "scaler = scaler.fit(nu)\n",
    "scaled = scaler.transform(nu)\n",
    "scaled_df = pd.DataFrame(scaled, columns=nu.columns)\n",
    "scaled_df.head(3)"
   ]
  },
  {
   "cell_type": "code",
   "execution_count": 67,
   "metadata": {},
   "outputs": [
    {
     "name": "stdout",
     "output_type": "stream",
     "text": [
      "(178079, 11)\n",
      "(178079,)\n"
     ]
    }
   ],
   "source": [
    "X = pd.concat([scaled_df, label_df], axis=1)\n",
    "y = 봄['10만건당 건수']\n",
    "print(X.shape)\n",
    "print(y.shape)"
   ]
  },
  {
   "cell_type": "markdown",
   "metadata": {},
   "source": [
    "# 4. Extra Trees Regressor 모델 학습"
   ]
  },
  {
   "cell_type": "code",
   "execution_count": 18,
   "metadata": {},
   "outputs": [],
   "source": [
    "from sklearn.model_selection import train_test_split, GridSearchCV\n",
    "from sklearn.ensemble import ExtraTreesRegressor"
   ]
  },
  {
   "cell_type": "code",
   "execution_count": 19,
   "metadata": {},
   "outputs": [
    {
     "name": "stdout",
     "output_type": "stream",
     "text": [
      "(142463, 11) (142463,)\n",
      "(35616, 11) (35616,)\n"
     ]
    }
   ],
   "source": [
    "X_train, X_test, y_train, y_test = train_test_split(X, y, test_size=0.2,\n",
    "                                                    shuffle=True, random_state=11)\n",
    "print(X_train.shape, y_train.shape)\n",
    "print(X_test.shape, y_test.shape)"
   ]
  },
  {
   "cell_type": "code",
   "execution_count": 27,
   "metadata": {},
   "outputs": [
    {
     "data": {
      "text/plain": [
       "GridSearchCV(cv=5, estimator=ExtraTreesRegressor(), n_jobs=-1,\n",
       "             param_grid={'max_features': [4, 8, 11],\n",
       "                         'min_samples_split': [2, 4, 8],\n",
       "                         'n_estimators': [100, 200]},\n",
       "             refit='neg_mean_squared_error', return_train_score=True,\n",
       "             scoring=['neg_mean_squared_error'])"
      ]
     },
     "execution_count": 27,
     "metadata": {},
     "output_type": "execute_result"
    }
   ],
   "source": [
    "param_grid = {'n_estimators':[100,200],'max_features':[4,8,11],'min_samples_split':[2,4,8]}\n",
    "grid = GridSearchCV(ExtraTreesRegressor(), param_grid=param_grid,\n",
    "                    scoring=['neg_mean_squared_error'], refit='neg_mean_squared_error',\n",
    "                    return_train_score=True, cv=5, n_jobs=-1)\n",
    "grid.fit(X_train, y_train)"
   ]
  },
  {
   "cell_type": "code",
   "execution_count": 28,
   "metadata": {},
   "outputs": [
    {
     "data": {
      "text/plain": [
       "{'max_features': 11, 'min_samples_split': 2, 'n_estimators': 200}"
      ]
     },
     "execution_count": 28,
     "metadata": {},
     "output_type": "execute_result"
    }
   ],
   "source": [
    "grid.best_params_"
   ]
  },
  {
   "cell_type": "code",
   "execution_count": 29,
   "metadata": {},
   "outputs": [
    {
     "data": {
      "text/plain": [
       "-0.01155133996469081"
      ]
     },
     "execution_count": 29,
     "metadata": {},
     "output_type": "execute_result"
    }
   ],
   "source": [
    "grid.best_score_"
   ]
  },
  {
   "cell_type": "markdown",
   "metadata": {},
   "source": [
    "사이킷런에서는 score 값이 클수록 좋은 평가 결과로 나타나기 때문에,\n",
    "\n",
    "회귀 평가 지표의 값이 작을수록 좋은 특성을 반영하기 위해 보정이 필요함\n",
    "\n",
    "neg_mean_squared_error = -1 * mean_squared_error"
   ]
  },
  {
   "cell_type": "code",
   "execution_count": 30,
   "metadata": {},
   "outputs": [
    {
     "name": "stdout",
     "output_type": "stream",
     "text": [
      "RMSE : 0.107\n"
     ]
    }
   ],
   "source": [
    "print('RMSE : {0:.3f}'.format(np.sqrt(-1 * grid.best_score_)))"
   ]
  },
  {
   "cell_type": "code",
   "execution_count": 31,
   "metadata": {},
   "outputs": [
    {
     "data": {
      "text/plain": [
       "ExtraTreesRegressor(max_features=11, n_estimators=200)"
      ]
     },
     "execution_count": 31,
     "metadata": {},
     "output_type": "execute_result"
    }
   ],
   "source": [
    "model = grid.best_estimator_\n",
    "model"
   ]
  },
  {
   "cell_type": "markdown",
   "metadata": {},
   "source": [
    "# 5. 예측 모델 저장"
   ]
  },
  {
   "cell_type": "code",
   "execution_count": 39,
   "metadata": {},
   "outputs": [],
   "source": [
    "import pickle\n",
    "import joblib"
   ]
  },
  {
   "cell_type": "code",
   "execution_count": 33,
   "metadata": {},
   "outputs": [
    {
     "data": {
      "text/plain": [
       "['./model/ExtraTreesRegressor(봄)']"
      ]
     },
     "execution_count": 33,
     "metadata": {},
     "output_type": "execute_result"
    }
   ],
   "source": [
    "joblib.dump(model, './model/ExtraTreesRegressor(봄)') "
   ]
  },
  {
   "cell_type": "markdown",
   "metadata": {},
   "source": [
    "# 6. 예측 템플릿 생성 및 모델 적용"
   ]
  },
  {
   "cell_type": "code",
   "execution_count": 5,
   "metadata": {},
   "outputs": [],
   "source": [
    "from bs4 import BeautifulSoup\n",
    "import requests"
   ]
  },
  {
   "cell_type": "code",
   "execution_count": 49,
   "metadata": {},
   "outputs": [
    {
     "data": {
      "text/plain": [
       "'0.6'"
      ]
     },
     "execution_count": 49,
     "metadata": {},
     "output_type": "execute_result"
    }
   ],
   "source": [
    "table.loc[4]['강수량(mm)']"
   ]
  },
  {
   "cell_type": "code",
   "execution_count": 55,
   "metadata": {
    "scrolled": true
   },
   "outputs": [
    {
     "name": "stdout",
     "output_type": "stream",
     "text": [
      "Yes\n"
     ]
    }
   ],
   "source": [
    "import re\n",
    "try: \n",
    "    re.search('^[+-]?\\d*(\\.?\\d*)$', table.loc[4]['강수량(mm)'])\n",
    "    print('Yes')\n",
    "except:\n",
    "    print('No')"
   ]
  },
  {
   "cell_type": "code",
   "execution_count": 44,
   "metadata": {},
   "outputs": [
    {
     "data": {
      "text/plain": [
       "float"
      ]
     },
     "execution_count": 44,
     "metadata": {},
     "output_type": "execute_result"
    }
   ],
   "source": [
    "type(table.loc[0]['강수량(mm)'])"
   ]
  },
  {
   "cell_type": "code",
   "execution_count": 36,
   "metadata": {},
   "outputs": [],
   "source": [
    "def weather_i(gender, age):\n",
    "    req = requests.get('https://www.weatheri.co.kr/forecast/forecast10.php')\n",
    "    # 한글이 깨지는 문제를 해결하고자 decode 사용\n",
    "    soup = BeautifulSoup(req.content.decode('utf-8','replace'), 'html.parser')\n",
    "\n",
    "    # 월, 일, 요일\n",
    "    date = soup.find('font', color='#124d79').text\n",
    "    year, month, day = date[:4], date[6:8], date[10:12]\n",
    "    ymd = year + '-' + month + '-' + day\n",
    "    ymd = pd.to_datetime(ymd)\n",
    "    week = ymd.weekday()\n",
    "    \n",
    "    # 공휴일\n",
    "    holiday = pd.read_excel('./data/국가공휴일2.xlsx')\n",
    "    holi_idx = holiday[(holiday['년'] == int(year)) & (holiday['월'] == int(month)) & (holiday['일'] == int(day))].index\n",
    "    if len(holi_idx) == 0:\n",
    "        holi = 0   # 공휴일이면 1, 아니면 0\n",
    "    else:\n",
    "        holi = 1\n",
    "    \n",
    "    # 강수량, 풍속, 체감온도 (서울)\n",
    "    table = pd.read_html(str(soup.select('table')[10]))[0]\n",
    "    table = table.rename(columns=table.iloc[0]).drop(table.index[0])\n",
    "    table.reset_index(drop=True, inplace=True)\n",
    "    table['풍 속(m/s)'] = table['풍 속(m/s)'].apply(lambda x: float(x)*3.6)\n",
    "    table = table.rename(columns={'풍 속(m/s)':'풍 속(km/h)'})\n",
    "\n",
    "    data = []\n",
    "    \n",
    "    if np.isnan(table.loc[0]['강수량(mm)']):\n",
    "        rain = 0\n",
    "    else:\n",
    "        rain = table.loc[0]['강수량(mm)']\n",
    "    wind = table.loc[0]['풍 속(km/h)']\n",
    "    temp = float(table.loc[0]['현재기온(℃)'])\n",
    "    a_temp = 13.12 + 0.6215*temp - 11.37*(wind**0.16) + 0.3965*(wind**0.16)*temp\n",
    "    \n",
    "    # 미세먼지\n",
    "    req2 = requests.get('https://www.weatheri.co.kr/special/special05_1.php?a=1')\n",
    "    soup2 = BeautifulSoup(req2.content.decode('utf-8','replace'), 'html.parser')\n",
    "    \n",
    "    table2 = pd.read_html(str(soup2.select('table')[11]))[1]\n",
    "    table2 = table2.rename(columns=table2.iloc[0]).drop(table2.index[0])\n",
    "    table2.reset_index(drop=True, inplace=True)\n",
    "    \n",
    "    pm10 = table2.iloc[0,2]\n",
    "    \n",
    "    data.append([month, day, week, holi, gender, age, rain, wind, a_temp, pm10])\n",
    "    df = np.transpose(pd.DataFrame(data[0]))\n",
    "    df.columns = ['월','일','요일','공휴일','성별','연령대','평균일강수량(mm)','평균풍속(km/h)','체감온도(℃)','일 미세먼지 농도(㎍/㎥)']\n",
    "    return df"
   ]
  },
  {
   "cell_type": "markdown",
   "metadata": {},
   "source": [
    "강수량/풍속/체감온도 수집 페이지와 미세먼지 페이지의 **지역 구분이 달라 city 입력 기준을 어떻게 해야 할지 고민**\n",
    "\n",
    "-> 대표적으로 '서울' 지역만 선정하여 크롤링하기로 함"
   ]
  },
  {
   "cell_type": "code",
   "execution_count": 39,
   "metadata": {},
   "outputs": [
    {
     "name": "stdout",
     "output_type": "stream",
     "text": [
      "(1, 10)\n"
     ]
    },
    {
     "data": {
      "text/html": [
       "<div>\n",
       "<style scoped>\n",
       "    .dataframe tbody tr th:only-of-type {\n",
       "        vertical-align: middle;\n",
       "    }\n",
       "\n",
       "    .dataframe tbody tr th {\n",
       "        vertical-align: top;\n",
       "    }\n",
       "\n",
       "    .dataframe thead th {\n",
       "        text-align: right;\n",
       "    }\n",
       "</style>\n",
       "<table border=\"1\" class=\"dataframe\">\n",
       "  <thead>\n",
       "    <tr style=\"text-align: right;\">\n",
       "      <th></th>\n",
       "      <th>월</th>\n",
       "      <th>일</th>\n",
       "      <th>요일</th>\n",
       "      <th>공휴일</th>\n",
       "      <th>성별</th>\n",
       "      <th>연령대</th>\n",
       "      <th>평균일강수량(mm)</th>\n",
       "      <th>평균풍속(km/h)</th>\n",
       "      <th>체감온도(℃)</th>\n",
       "      <th>일 미세먼지 농도(㎍/㎥)</th>\n",
       "    </tr>\n",
       "  </thead>\n",
       "  <tbody>\n",
       "    <tr>\n",
       "      <th>0</th>\n",
       "      <td>06</td>\n",
       "      <td>23</td>\n",
       "      <td>2</td>\n",
       "      <td>0</td>\n",
       "      <td>F</td>\n",
       "      <td>20</td>\n",
       "      <td>0</td>\n",
       "      <td>9</td>\n",
       "      <td>28.6006</td>\n",
       "      <td>24</td>\n",
       "    </tr>\n",
       "  </tbody>\n",
       "</table>\n",
       "</div>"
      ],
      "text/plain": [
       "    월   일 요일 공휴일 성별 연령대 평균일강수량(mm) 평균풍속(km/h)  체감온도(℃) 일 미세먼지 농도(㎍/㎥)\n",
       "0  06  23  2   0  F  20          0          9  28.6006             24"
      ]
     },
     "execution_count": 39,
     "metadata": {},
     "output_type": "execute_result"
    }
   ],
   "source": [
    "df = weather_i('F','20')\n",
    "print(df.shape)\n",
    "df.head(3)"
   ]
  },
  {
   "cell_type": "code",
   "execution_count": 38,
   "metadata": {},
   "outputs": [
    {
     "name": "stdout",
     "output_type": "stream",
     "text": [
      "(131, 11)\n"
     ]
    },
    {
     "data": {
      "text/html": [
       "<div>\n",
       "<style scoped>\n",
       "    .dataframe tbody tr th:only-of-type {\n",
       "        vertical-align: middle;\n",
       "    }\n",
       "\n",
       "    .dataframe tbody tr th {\n",
       "        vertical-align: top;\n",
       "    }\n",
       "\n",
       "    .dataframe thead th {\n",
       "        text-align: right;\n",
       "    }\n",
       "</style>\n",
       "<table border=\"1\" class=\"dataframe\">\n",
       "  <thead>\n",
       "    <tr style=\"text-align: right;\">\n",
       "      <th></th>\n",
       "      <th>월</th>\n",
       "      <th>일</th>\n",
       "      <th>요일</th>\n",
       "      <th>공휴일</th>\n",
       "      <th>성별</th>\n",
       "      <th>연령대</th>\n",
       "      <th>소분류명</th>\n",
       "      <th>평균일강수량(mm)</th>\n",
       "      <th>평균풍속(km/h)</th>\n",
       "      <th>체감온도(℃)</th>\n",
       "      <th>일 미세먼지 농도(㎍/㎥)</th>\n",
       "    </tr>\n",
       "  </thead>\n",
       "  <tbody>\n",
       "    <tr>\n",
       "      <th>0</th>\n",
       "      <td>06</td>\n",
       "      <td>23</td>\n",
       "      <td>2</td>\n",
       "      <td>0</td>\n",
       "      <td>F</td>\n",
       "      <td>20</td>\n",
       "      <td>기능성 링클케어 화장품</td>\n",
       "      <td>0</td>\n",
       "      <td>9</td>\n",
       "      <td>28.6006</td>\n",
       "      <td>24</td>\n",
       "    </tr>\n",
       "    <tr>\n",
       "      <th>1</th>\n",
       "      <td>06</td>\n",
       "      <td>23</td>\n",
       "      <td>2</td>\n",
       "      <td>0</td>\n",
       "      <td>F</td>\n",
       "      <td>20</td>\n",
       "      <td>기능성 모공관리 화장품</td>\n",
       "      <td>0</td>\n",
       "      <td>9</td>\n",
       "      <td>28.6006</td>\n",
       "      <td>24</td>\n",
       "    </tr>\n",
       "    <tr>\n",
       "      <th>2</th>\n",
       "      <td>06</td>\n",
       "      <td>23</td>\n",
       "      <td>2</td>\n",
       "      <td>0</td>\n",
       "      <td>F</td>\n",
       "      <td>20</td>\n",
       "      <td>기능성 아이케어 화장품</td>\n",
       "      <td>0</td>\n",
       "      <td>9</td>\n",
       "      <td>28.6006</td>\n",
       "      <td>24</td>\n",
       "    </tr>\n",
       "  </tbody>\n",
       "</table>\n",
       "</div>"
      ],
      "text/plain": [
       "    월   일 요일 공휴일 성별 연령대          소분류명 평균일강수량(mm) 평균풍속(km/h)  체감온도(℃)  \\\n",
       "0  06  23  2   0  F  20  기능성 링클케어 화장품          0          9  28.6006   \n",
       "1  06  23  2   0  F  20  기능성 모공관리 화장품          0          9  28.6006   \n",
       "2  06  23  2   0  F  20  기능성 아이케어 화장품          0          9  28.6006   \n",
       "\n",
       "  일 미세먼지 농도(㎍/㎥)  \n",
       "0             24  \n",
       "1             24  \n",
       "2             24  "
      ]
     },
     "execution_count": 38,
     "metadata": {},
     "output_type": "execute_result"
    }
   ],
   "source": [
    "for i in range(beauty.소분류명.nunique()-1):\n",
    "    df = df.append(pd.Series(df[0:1].values[0], index=df.columns), ignore_index=True)\n",
    "df['소분류명'] = beauty.소분류명.unique()\n",
    "df = df[['월','일','요일','공휴일','성별','연령대','소분류명','평균일강수량(mm)','평균풍속(km/h)','체감온도(℃)','일 미세먼지 농도(㎍/㎥)']]\n",
    "\n",
    "print(df.shape)\n",
    "df.head(3)"
   ]
  },
  {
   "cell_type": "code",
   "execution_count": 70,
   "metadata": {},
   "outputs": [
    {
     "data": {
      "text/html": [
       "<div>\n",
       "<style scoped>\n",
       "    .dataframe tbody tr th:only-of-type {\n",
       "        vertical-align: middle;\n",
       "    }\n",
       "\n",
       "    .dataframe tbody tr th {\n",
       "        vertical-align: top;\n",
       "    }\n",
       "\n",
       "    .dataframe thead th {\n",
       "        text-align: right;\n",
       "    }\n",
       "</style>\n",
       "<table border=\"1\" class=\"dataframe\">\n",
       "  <thead>\n",
       "    <tr style=\"text-align: right;\">\n",
       "      <th></th>\n",
       "      <th>성별</th>\n",
       "      <th>소분류명</th>\n",
       "    </tr>\n",
       "  </thead>\n",
       "  <tbody>\n",
       "    <tr>\n",
       "      <th>0</th>\n",
       "      <td>0</td>\n",
       "      <td>0</td>\n",
       "    </tr>\n",
       "    <tr>\n",
       "      <th>1</th>\n",
       "      <td>0</td>\n",
       "      <td>1</td>\n",
       "    </tr>\n",
       "    <tr>\n",
       "      <th>2</th>\n",
       "      <td>0</td>\n",
       "      <td>2</td>\n",
       "    </tr>\n",
       "  </tbody>\n",
       "</table>\n",
       "</div>"
      ],
      "text/plain": [
       "   성별  소분류명\n",
       "0   0     0\n",
       "1   0     1\n",
       "2   0     2"
      ]
     },
     "execution_count": 70,
     "metadata": {},
     "output_type": "execute_result"
    }
   ],
   "source": [
    "# 범주형 변수 레이블 인코딩\n",
    "\n",
    "df['성별'] = le.transform(df['성별'])\n",
    "df['소분류명'] = le2.transform(df['소분류명'])\n",
    "\n",
    "label_df2 = df[['성별','소분류명']]\n",
    "label_df2.head(3)"
   ]
  },
  {
   "cell_type": "code",
   "execution_count": 72,
   "metadata": {},
   "outputs": [
    {
     "data": {
      "text/html": [
       "<div>\n",
       "<style scoped>\n",
       "    .dataframe tbody tr th:only-of-type {\n",
       "        vertical-align: middle;\n",
       "    }\n",
       "\n",
       "    .dataframe tbody tr th {\n",
       "        vertical-align: top;\n",
       "    }\n",
       "\n",
       "    .dataframe thead th {\n",
       "        text-align: right;\n",
       "    }\n",
       "</style>\n",
       "<table border=\"1\" class=\"dataframe\">\n",
       "  <thead>\n",
       "    <tr style=\"text-align: right;\">\n",
       "      <th></th>\n",
       "      <th>월</th>\n",
       "      <th>일</th>\n",
       "      <th>요일</th>\n",
       "      <th>공휴일</th>\n",
       "      <th>연령대</th>\n",
       "      <th>평균일강수량(mm)</th>\n",
       "      <th>평균풍속(km/h)</th>\n",
       "      <th>체감온도(℃)</th>\n",
       "      <th>일 미세먼지 농도(㎍/㎥)</th>\n",
       "    </tr>\n",
       "  </thead>\n",
       "  <tbody>\n",
       "    <tr>\n",
       "      <th>0</th>\n",
       "      <td>2.434567</td>\n",
       "      <td>0.475567</td>\n",
       "      <td>1.523417</td>\n",
       "      <td>-0.210836</td>\n",
       "      <td>-1.347453</td>\n",
       "      <td>-0.662858</td>\n",
       "      <td>4.162546</td>\n",
       "      <td>2.626073</td>\n",
       "      <td>1.48447</td>\n",
       "    </tr>\n",
       "    <tr>\n",
       "      <th>1</th>\n",
       "      <td>2.434567</td>\n",
       "      <td>0.475567</td>\n",
       "      <td>1.523417</td>\n",
       "      <td>-0.210836</td>\n",
       "      <td>-1.347453</td>\n",
       "      <td>-0.662858</td>\n",
       "      <td>4.162546</td>\n",
       "      <td>2.626073</td>\n",
       "      <td>1.48447</td>\n",
       "    </tr>\n",
       "    <tr>\n",
       "      <th>2</th>\n",
       "      <td>2.434567</td>\n",
       "      <td>0.475567</td>\n",
       "      <td>1.523417</td>\n",
       "      <td>-0.210836</td>\n",
       "      <td>-1.347453</td>\n",
       "      <td>-0.662858</td>\n",
       "      <td>4.162546</td>\n",
       "      <td>2.626073</td>\n",
       "      <td>1.48447</td>\n",
       "    </tr>\n",
       "  </tbody>\n",
       "</table>\n",
       "</div>"
      ],
      "text/plain": [
       "          월         일        요일       공휴일       연령대  평균일강수량(mm)  평균풍속(km/h)  \\\n",
       "0  2.434567  0.475567  1.523417 -0.210836 -1.347453   -0.662858    4.162546   \n",
       "1  2.434567  0.475567  1.523417 -0.210836 -1.347453   -0.662858    4.162546   \n",
       "2  2.434567  0.475567  1.523417 -0.210836 -1.347453   -0.662858    4.162546   \n",
       "\n",
       "    체감온도(℃)  일 미세먼지 농도(㎍/㎥)  \n",
       "0  2.626073         1.48447  \n",
       "1  2.626073         1.48447  \n",
       "2  2.626073         1.48447  "
      ]
     },
     "execution_count": 72,
     "metadata": {},
     "output_type": "execute_result"
    }
   ],
   "source": [
    "# 연속형 변수 스케일링\n",
    "from sklearn.preprocessing import StandardScaler\n",
    "\n",
    "nu = df.drop(['성별','소분류명'], axis=1)\n",
    "\n",
    "scaled = scaler.transform(nu)\n",
    "scaled_df2 = pd.DataFrame(scaled, columns=nu.columns)\n",
    "scaled_df2.head(3)"
   ]
  },
  {
   "cell_type": "code",
   "execution_count": 79,
   "metadata": {},
   "outputs": [
    {
     "name": "stdout",
     "output_type": "stream",
     "text": [
      "(131, 11)\n"
     ]
    }
   ],
   "source": [
    "test = pd.concat([scaled_df2, label_df2], axis=1)\n",
    "print(test.shape)"
   ]
  },
  {
   "cell_type": "code",
   "execution_count": 80,
   "metadata": {},
   "outputs": [
    {
     "data": {
      "text/plain": [
       "array([2.45353389, 4.47141095, 1.40630744, 1.64837063, 4.67010453,\n",
       "       3.02086488, 4.65572763, 3.58877321, 1.99568013, 4.11574017,\n",
       "       3.85218534, 4.25391709, 2.5890132 , 3.38535701, 1.62141062,\n",
       "       2.48383981, 0.51034425, 3.84388803, 1.78379796, 2.88576384,\n",
       "       2.91859635, 3.3220725 , 0.96662859, 1.07524485, 2.50961025,\n",
       "       3.4911205 , 3.98134234, 1.40617097, 2.85082624, 1.26738543,\n",
       "       1.51599742, 1.93156252, 0.84661476, 0.98864871, 2.99866093,\n",
       "       1.56723498, 2.23915026, 1.84624933, 0.41178274, 0.74045849,\n",
       "       1.04903595, 0.32077195, 1.37294234, 1.70174433, 1.98629069,\n",
       "       1.58910781, 0.11354507, 2.79221297, 2.28511402, 2.10108269,\n",
       "       0.08275553, 1.44294107, 3.16993344, 2.41016194, 0.29086001,\n",
       "       0.8194462 , 1.81292335, 2.32091782, 0.79046822, 2.33829083,\n",
       "       2.10406758, 1.68259725, 2.79412458, 2.34069447, 0.03694523,\n",
       "       1.81132453, 1.37906786, 0.5801279 , 2.6281572 , 3.87286062,\n",
       "       3.79905982, 3.05782917, 2.22164842, 3.1056269 , 2.22432988,\n",
       "       2.49651586, 2.23810752, 2.0962762 , 0.41273927, 4.83020415,\n",
       "       0.8440446 , 0.40219346, 0.37867121, 4.55722821, 0.15294091,\n",
       "       0.19806957, 0.16001553, 2.39711782, 0.0968527 , 3.80653253,\n",
       "       1.01367981, 0.93361722, 0.84010818, 1.23442627, 1.27560141,\n",
       "       0.70272313, 3.11347139, 2.11727218, 3.33379181, 2.50909429,\n",
       "       3.06307967, 1.59807454, 2.83819062, 2.01148756, 3.36569793,\n",
       "       1.48573392, 1.06545566, 0.69048703, 0.65834029, 2.28773593,\n",
       "       0.34927764, 2.70780306, 1.35330619, 0.66930949, 3.03417643,\n",
       "       2.23535888, 3.73834558, 0.75641086, 3.72668434, 2.78347997,\n",
       "       3.6179945 , 2.01848585, 2.59292589, 1.55329303, 2.99935859,\n",
       "       3.19511466, 1.56578971, 3.83207   , 1.88135168, 2.52554599,\n",
       "       2.94812501])"
      ]
     },
     "execution_count": 80,
     "metadata": {},
     "output_type": "execute_result"
    }
   ],
   "source": [
    "et_model = joblib.load('./model/ExtraTreesRegressor(봄)') \n",
    "pred = et_model.predict(test)\n",
    "pred"
   ]
  },
  {
   "cell_type": "code",
   "execution_count": 81,
   "metadata": {},
   "outputs": [
    {
     "data": {
      "text/html": [
       "<div>\n",
       "<style scoped>\n",
       "    .dataframe tbody tr th:only-of-type {\n",
       "        vertical-align: middle;\n",
       "    }\n",
       "\n",
       "    .dataframe tbody tr th {\n",
       "        vertical-align: top;\n",
       "    }\n",
       "\n",
       "    .dataframe thead th {\n",
       "        text-align: right;\n",
       "    }\n",
       "</style>\n",
       "<table border=\"1\" class=\"dataframe\">\n",
       "  <thead>\n",
       "    <tr style=\"text-align: right;\">\n",
       "      <th></th>\n",
       "      <th>월</th>\n",
       "      <th>일</th>\n",
       "      <th>요일</th>\n",
       "      <th>공휴일</th>\n",
       "      <th>연령대</th>\n",
       "      <th>평균일강수량(mm)</th>\n",
       "      <th>평균풍속(km/h)</th>\n",
       "      <th>체감온도(℃)</th>\n",
       "      <th>일 미세먼지 농도(㎍/㎥)</th>\n",
       "      <th>성별</th>\n",
       "      <th>소분류명</th>\n",
       "      <th>10만건당 건수</th>\n",
       "    </tr>\n",
       "  </thead>\n",
       "  <tbody>\n",
       "    <tr>\n",
       "      <th>0</th>\n",
       "      <td>2.434567</td>\n",
       "      <td>0.475567</td>\n",
       "      <td>1.523417</td>\n",
       "      <td>-0.210836</td>\n",
       "      <td>-1.347453</td>\n",
       "      <td>-0.662858</td>\n",
       "      <td>4.162546</td>\n",
       "      <td>2.626073</td>\n",
       "      <td>1.48447</td>\n",
       "      <td>0</td>\n",
       "      <td>0</td>\n",
       "      <td>10.629371</td>\n",
       "    </tr>\n",
       "    <tr>\n",
       "      <th>1</th>\n",
       "      <td>2.434567</td>\n",
       "      <td>0.475567</td>\n",
       "      <td>1.523417</td>\n",
       "      <td>-0.210836</td>\n",
       "      <td>-1.347453</td>\n",
       "      <td>-0.662858</td>\n",
       "      <td>4.162546</td>\n",
       "      <td>2.626073</td>\n",
       "      <td>1.48447</td>\n",
       "      <td>0</td>\n",
       "      <td>1</td>\n",
       "      <td>86.480066</td>\n",
       "    </tr>\n",
       "    <tr>\n",
       "      <th>2</th>\n",
       "      <td>2.434567</td>\n",
       "      <td>0.475567</td>\n",
       "      <td>1.523417</td>\n",
       "      <td>-0.210836</td>\n",
       "      <td>-1.347453</td>\n",
       "      <td>-0.662858</td>\n",
       "      <td>4.162546</td>\n",
       "      <td>2.626073</td>\n",
       "      <td>1.48447</td>\n",
       "      <td>0</td>\n",
       "      <td>2</td>\n",
       "      <td>3.080859</td>\n",
       "    </tr>\n",
       "  </tbody>\n",
       "</table>\n",
       "</div>"
      ],
      "text/plain": [
       "          월         일        요일       공휴일       연령대  평균일강수량(mm)  평균풍속(km/h)  \\\n",
       "0  2.434567  0.475567  1.523417 -0.210836 -1.347453   -0.662858    4.162546   \n",
       "1  2.434567  0.475567  1.523417 -0.210836 -1.347453   -0.662858    4.162546   \n",
       "2  2.434567  0.475567  1.523417 -0.210836 -1.347453   -0.662858    4.162546   \n",
       "\n",
       "    체감온도(℃)  일 미세먼지 농도(㎍/㎥)  성별  소분류명   10만건당 건수  \n",
       "0  2.626073         1.48447   0     0  10.629371  \n",
       "1  2.626073         1.48447   0     1  86.480066  \n",
       "2  2.626073         1.48447   0     2   3.080859  "
      ]
     },
     "execution_count": 81,
     "metadata": {},
     "output_type": "execute_result"
    }
   ],
   "source": [
    "test['10만건당 건수'] = np.expm1(pred)\n",
    "test.head(3)"
   ]
  },
  {
   "cell_type": "code",
   "execution_count": 82,
   "metadata": {},
   "outputs": [
    {
     "data": {
      "text/html": [
       "<div>\n",
       "<style scoped>\n",
       "    .dataframe tbody tr th:only-of-type {\n",
       "        vertical-align: middle;\n",
       "    }\n",
       "\n",
       "    .dataframe tbody tr th {\n",
       "        vertical-align: top;\n",
       "    }\n",
       "\n",
       "    .dataframe thead th {\n",
       "        text-align: right;\n",
       "    }\n",
       "</style>\n",
       "<table border=\"1\" class=\"dataframe\">\n",
       "  <thead>\n",
       "    <tr style=\"text-align: right;\">\n",
       "      <th></th>\n",
       "      <th>소분류명</th>\n",
       "      <th>10만건당 건수</th>\n",
       "    </tr>\n",
       "  </thead>\n",
       "  <tbody>\n",
       "    <tr>\n",
       "      <th>0</th>\n",
       "      <td>기능성 링클케어 화장품</td>\n",
       "      <td>10.629371</td>\n",
       "    </tr>\n",
       "    <tr>\n",
       "      <th>1</th>\n",
       "      <td>기능성 모공관리 화장품</td>\n",
       "      <td>86.480066</td>\n",
       "    </tr>\n",
       "    <tr>\n",
       "      <th>2</th>\n",
       "      <td>기능성 아이케어 화장품</td>\n",
       "      <td>3.080859</td>\n",
       "    </tr>\n",
       "  </tbody>\n",
       "</table>\n",
       "</div>"
      ],
      "text/plain": [
       "           소분류명   10만건당 건수\n",
       "0  기능성 링클케어 화장품  10.629371\n",
       "1  기능성 모공관리 화장품  86.480066\n",
       "2  기능성 아이케어 화장품   3.080859"
      ]
     },
     "execution_count": 82,
     "metadata": {},
     "output_type": "execute_result"
    }
   ],
   "source": [
    "test['소분류명'] = le2.inverse_transform(test['소분류명'])\n",
    "test[['소분류명','10만건당 건수']].head(3)"
   ]
  },
  {
   "cell_type": "code",
   "execution_count": 1,
   "metadata": {},
   "outputs": [],
   "source": [
    "# 봄, 여름, 가을, 겨울로 나눈 전체 데이터에 동일한 방식 적용"
   ]
  },
  {
   "cell_type": "code",
   "execution_count": null,
   "metadata": {},
   "outputs": [],
   "source": []
  }
 ],
 "metadata": {
  "kernelspec": {
   "display_name": "Python 3",
   "language": "python",
   "name": "python3"
  },
  "language_info": {
   "codemirror_mode": {
    "name": "ipython",
    "version": 3
   },
   "file_extension": ".py",
   "mimetype": "text/x-python",
   "name": "python",
   "nbconvert_exporter": "python",
   "pygments_lexer": "ipython3",
   "version": "3.8.3"
  },
  "toc": {
   "base_numbering": 1,
   "nav_menu": {},
   "number_sections": false,
   "sideBar": false,
   "skip_h1_title": false,
   "title_cell": "Table of Contents",
   "title_sidebar": "Contents",
   "toc_cell": true,
   "toc_position": {},
   "toc_section_display": true,
   "toc_window_display": false
  }
 },
 "nbformat": 4,
 "nbformat_minor": 4
}
