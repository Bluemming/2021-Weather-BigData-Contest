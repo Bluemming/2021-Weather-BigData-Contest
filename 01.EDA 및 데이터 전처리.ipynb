{
 "cells": [
  {
   "cell_type": "markdown",
   "metadata": {
    "toc": true
   },
   "source": [
    "<h1>Table of Contents<span class=\"tocSkip\"></span></h1>\n",
    "<div class=\"toc\"><ul class=\"toc-item\"><li><span><a href=\"#1.-데이터-로드\" data-toc-modified-id=\"1.-데이터-로드-1\">1. 데이터 로드</a></span></li><li><span><a href=\"#2.-데이터-병합-및-전처리\" data-toc-modified-id=\"2.-데이터-병합-및-전처리-2\">2. 데이터 병합 및 전처리</a></span><ul class=\"toc-item\"><li><span><a href=\"#2.1-데이터-병합\" data-toc-modified-id=\"2.1-데이터-병합-2.1\">2.1 데이터 병합</a></span></li><li><span><a href=\"#2.2-데이터-유형-변환\" data-toc-modified-id=\"2.2-데이터-유형-변환-2.2\">2.2 데이터 유형 변환</a></span></li><li><span><a href=\"#2.3-파생변수-추가\" data-toc-modified-id=\"2.3-파생변수-추가-2.3\">2.3 파생변수 추가</a></span></li></ul></li><li><span><a href=\"#3.-EDA\" data-toc-modified-id=\"3.-EDA-3\">3. EDA</a></span><ul class=\"toc-item\"><li><span><a href=\"#3.1-종속변수-분포\" data-toc-modified-id=\"3.1-종속변수-분포-3.1\">3.1 종속변수 분포</a></span></li><li><span><a href=\"#3.2-독립변수-(명목형)-분포\" data-toc-modified-id=\"3.2-독립변수-(명목형)-분포-3.2\">3.2 독립변수 (명목형) 분포</a></span></li><li><span><a href=\"#3.3-독립변수-(명목형)---구매건수\" data-toc-modified-id=\"3.3-독립변수-(명목형)---구매건수-3.3\">3.3 독립변수 (명목형) - 구매건수</a></span></li><li><span><a href=\"#3.4-독립변수-(수치형)-분포\" data-toc-modified-id=\"3.4-독립변수-(수치형)-분포-3.4\">3.4 독립변수 (수치형) 분포</a></span></li><li><span><a href=\"#3.5-독립변수-(수치형)---구매건수-상관관계\" data-toc-modified-id=\"3.5-독립변수-(수치형)---구매건수-상관관계-3.5\">3.5 독립변수 (수치형) - 구매건수 상관관계</a></span></li></ul></li></ul></div>"
   ]
  },
  {
   "cell_type": "markdown",
   "metadata": {},
   "source": [
    "# 1. 데이터 로드"
   ]
  },
  {
   "cell_type": "code",
   "execution_count": 1,
   "metadata": {},
   "outputs": [],
   "source": [
    "import numpy as np\n",
    "import pandas as pd\n",
    "import matplotlib.pyplot as plt\n",
    "import seaborn as sns\n",
    "%matplotlib inline\n",
    "from datetime import datetime\n",
    "\n",
    "import warnings\n",
    "warnings.filterwarnings('ignore')"
   ]
  },
  {
   "cell_type": "code",
   "execution_count": 2,
   "metadata": {},
   "outputs": [
    {
     "name": "stdout",
     "output_type": "stream",
     "text": [
      "(730, 9)\n"
     ]
    },
    {
     "data": {
      "text/html": [
       "<div>\n",
       "<style scoped>\n",
       "    .dataframe tbody tr th:only-of-type {\n",
       "        vertical-align: middle;\n",
       "    }\n",
       "\n",
       "    .dataframe tbody tr th {\n",
       "        vertical-align: top;\n",
       "    }\n",
       "\n",
       "    .dataframe thead th {\n",
       "        text-align: right;\n",
       "    }\n",
       "</style>\n",
       "<table border=\"1\" class=\"dataframe\">\n",
       "  <thead>\n",
       "    <tr style=\"text-align: right;\">\n",
       "      <th></th>\n",
       "      <th>일시</th>\n",
       "      <th>평균기온(℃)</th>\n",
       "      <th>평균일강수량(mm)</th>\n",
       "      <th>평균풍속(km/h)</th>\n",
       "      <th>평균습도(%rh)</th>\n",
       "      <th>일조합</th>\n",
       "      <th>일사합</th>\n",
       "      <th>체감온도(℃)</th>\n",
       "      <th>일 미세먼지 농도(㎍/㎥)</th>\n",
       "    </tr>\n",
       "  </thead>\n",
       "  <tbody>\n",
       "    <tr>\n",
       "      <th>0</th>\n",
       "      <td>2019-12-31</td>\n",
       "      <td>-3.8</td>\n",
       "      <td>0.1</td>\n",
       "      <td>12.96</td>\n",
       "      <td>46.0</td>\n",
       "      <td>8.8</td>\n",
       "      <td>11.31</td>\n",
       "      <td>-8.642578</td>\n",
       "      <td>19.758621</td>\n",
       "    </tr>\n",
       "    <tr>\n",
       "      <th>1</th>\n",
       "      <td>2019-12-30</td>\n",
       "      <td>5.0</td>\n",
       "      <td>0.9</td>\n",
       "      <td>7.56</td>\n",
       "      <td>79.0</td>\n",
       "      <td>2.2</td>\n",
       "      <td>3.96</td>\n",
       "      <td>3.252319</td>\n",
       "      <td>24.296296</td>\n",
       "    </tr>\n",
       "    <tr>\n",
       "      <th>2</th>\n",
       "      <td>2019-12-29</td>\n",
       "      <td>2.6</td>\n",
       "      <td>6.2</td>\n",
       "      <td>4.32</td>\n",
       "      <td>73.0</td>\n",
       "      <td>0.2</td>\n",
       "      <td>3.33</td>\n",
       "      <td>1.669374</td>\n",
       "      <td>34.172414</td>\n",
       "    </tr>\n",
       "  </tbody>\n",
       "</table>\n",
       "</div>"
      ],
      "text/plain": [
       "           일시  평균기온(℃)  평균일강수량(mm)  평균풍속(km/h)  평균습도(%rh)  일조합    일사합  \\\n",
       "0  2019-12-31     -3.8         0.1       12.96       46.0  8.8  11.31   \n",
       "1  2019-12-30      5.0         0.9        7.56       79.0  2.2   3.96   \n",
       "2  2019-12-29      2.6         6.2        4.32       73.0  0.2   3.33   \n",
       "\n",
       "    체감온도(℃)  일 미세먼지 농도(㎍/㎥)  \n",
       "0 -8.642578       19.758621  \n",
       "1  3.252319       24.296296  \n",
       "2  1.669374       34.172414  "
      ]
     },
     "execution_count": 2,
     "metadata": {},
     "output_type": "execute_result"
    }
   ],
   "source": [
    "날씨 = pd.read_csv('./data/전국날씨데이터.csv')\n",
    "print(날씨.shape)\n",
    "날씨.head(3)"
   ]
  },
  {
   "cell_type": "code",
   "execution_count": 3,
   "metadata": {},
   "outputs": [
    {
     "name": "stdout",
     "output_type": "stream",
     "text": [
      "(279590, 4)\n"
     ]
    },
    {
     "data": {
      "text/html": [
       "<div>\n",
       "<style scoped>\n",
       "    .dataframe tbody tr th:only-of-type {\n",
       "        vertical-align: middle;\n",
       "    }\n",
       "\n",
       "    .dataframe tbody tr th {\n",
       "        vertical-align: top;\n",
       "    }\n",
       "\n",
       "    .dataframe thead th {\n",
       "        text-align: right;\n",
       "    }\n",
       "</style>\n",
       "<table border=\"1\" class=\"dataframe\">\n",
       "  <thead>\n",
       "    <tr style=\"text-align: right;\">\n",
       "      <th></th>\n",
       "      <th>일시</th>\n",
       "      <th>대분류명</th>\n",
       "      <th>소분류명</th>\n",
       "      <th>10만건당 건수</th>\n",
       "    </tr>\n",
       "  </thead>\n",
       "  <tbody>\n",
       "    <tr>\n",
       "      <th>0</th>\n",
       "      <td>20180101</td>\n",
       "      <td>뷰티</td>\n",
       "      <td>기능성 링클케어 화장품</td>\n",
       "      <td>12.154295</td>\n",
       "    </tr>\n",
       "    <tr>\n",
       "      <th>1</th>\n",
       "      <td>20180101</td>\n",
       "      <td>뷰티</td>\n",
       "      <td>기능성 모공관리 화장품</td>\n",
       "      <td>36.000828</td>\n",
       "    </tr>\n",
       "    <tr>\n",
       "      <th>2</th>\n",
       "      <td>20180101</td>\n",
       "      <td>뷰티</td>\n",
       "      <td>기능성 아이케어 화장품</td>\n",
       "      <td>0.895782</td>\n",
       "    </tr>\n",
       "  </tbody>\n",
       "</table>\n",
       "</div>"
      ],
      "text/plain": [
       "         일시 대분류명          소분류명   10만건당 건수\n",
       "0  20180101   뷰티  기능성 링클케어 화장품  12.154295\n",
       "1  20180101   뷰티  기능성 모공관리 화장품  36.000828\n",
       "2  20180101   뷰티  기능성 아이케어 화장품   0.895782"
      ]
     },
     "execution_count": 3,
     "metadata": {},
     "output_type": "execute_result"
    }
   ],
   "source": [
    "소셜1 = pd.read_csv('./data/sns2018_1.csv')\n",
    "소셜2 = pd.read_csv('./data/sns2018_2.csv')\n",
    "소셜3 = pd.read_csv('./data/sns2019_1.csv')\n",
    "소셜4 = pd.read_csv('./data/sns2019_2.csv')\n",
    "\n",
    "소셜1 = 소셜1.drop('Unnamed: 0', axis=1)\n",
    "소셜1.columns = ['일시','대분류명','소분류명','10만건당 건수']\n",
    "\n",
    "소셜2 = 소셜2.drop('Unnamed: 0', axis=1)\n",
    "소셜2.columns = ['일시','대분류명','소분류명','10만건당 건수']\n",
    "\n",
    "소셜3 = 소셜3.drop('Unnamed: 0', axis=1)\n",
    "소셜3.columns = ['일시','대분류명','소분류명','10만건당 건수']\n",
    "\n",
    "소셜4 = 소셜4.drop('Unnamed: 0', axis=1)\n",
    "소셜4.columns = ['일시','대분류명','소분류명','10만건당 건수']\n",
    "\n",
    "소셜 = pd.concat([소셜1, 소셜2, 소셜3, 소셜4], axis=0)\n",
    "print(소셜.shape)\n",
    "소셜.head(3)"
   ]
  },
  {
   "cell_type": "code",
   "execution_count": 4,
   "metadata": {},
   "outputs": [
    {
     "name": "stdout",
     "output_type": "stream",
     "text": [
      "(2056899, 6)\n"
     ]
    },
    {
     "data": {
      "text/html": [
       "<div>\n",
       "<style scoped>\n",
       "    .dataframe tbody tr th:only-of-type {\n",
       "        vertical-align: middle;\n",
       "    }\n",
       "\n",
       "    .dataframe tbody tr th {\n",
       "        vertical-align: top;\n",
       "    }\n",
       "\n",
       "    .dataframe thead th {\n",
       "        text-align: right;\n",
       "    }\n",
       "</style>\n",
       "<table border=\"1\" class=\"dataframe\">\n",
       "  <thead>\n",
       "    <tr style=\"text-align: right;\">\n",
       "      <th></th>\n",
       "      <th>일시</th>\n",
       "      <th>성별</th>\n",
       "      <th>연령대</th>\n",
       "      <th>대분류명</th>\n",
       "      <th>소분류명</th>\n",
       "      <th>구매건수</th>\n",
       "    </tr>\n",
       "  </thead>\n",
       "  <tbody>\n",
       "    <tr>\n",
       "      <th>0</th>\n",
       "      <td>20180101</td>\n",
       "      <td>F</td>\n",
       "      <td>20</td>\n",
       "      <td>식품</td>\n",
       "      <td>가공란</td>\n",
       "      <td>37</td>\n",
       "    </tr>\n",
       "    <tr>\n",
       "      <th>1</th>\n",
       "      <td>20180101</td>\n",
       "      <td>F</td>\n",
       "      <td>30</td>\n",
       "      <td>식품</td>\n",
       "      <td>가공란</td>\n",
       "      <td>16</td>\n",
       "    </tr>\n",
       "    <tr>\n",
       "      <th>2</th>\n",
       "      <td>20180101</td>\n",
       "      <td>F</td>\n",
       "      <td>40</td>\n",
       "      <td>식품</td>\n",
       "      <td>가공란</td>\n",
       "      <td>9</td>\n",
       "    </tr>\n",
       "  </tbody>\n",
       "</table>\n",
       "</div>"
      ],
      "text/plain": [
       "         일시 성별  연령대 대분류명 소분류명  구매건수\n",
       "0  20180101  F   20   식품  가공란    37\n",
       "1  20180101  F   30   식품  가공란    16\n",
       "2  20180101  F   40   식품  가공란     9"
      ]
     },
     "execution_count": 4,
     "metadata": {},
     "output_type": "execute_result"
    }
   ],
   "source": [
    "구매1 = pd.read_csv('./data/buy2018_1.csv')\n",
    "구매2 = pd.read_csv('./data/buy2018_2.csv')\n",
    "구매3 = pd.read_csv('./data/buy2019_1.csv')\n",
    "구매4 = pd.read_csv('./data/buy2019_2.csv')\n",
    "\n",
    "구매1 = 구매1.drop('Unnamed: 0', axis=1)\n",
    "구매1.columns = ['일시','성별','연령대','대분류명','소분류명','구매건수']\n",
    "\n",
    "구매2 = 구매2.drop('Unnamed: 0', axis=1)\n",
    "구매2.columns = ['일시','성별','연령대','대분류명','소분류명','구매건수']\n",
    "\n",
    "구매3 = 구매3.drop('Unnamed: 0', axis=1)\n",
    "구매3.columns = ['일시','성별','연령대','대분류명','소분류명','구매건수']\n",
    "\n",
    "구매4 = 구매4.drop('Unnamed: 0', axis=1)\n",
    "구매4.columns = ['일시','성별','연령대','대분류명','소분류명','구매건수']\n",
    "\n",
    "구매 = pd.concat([구매1, 구매2, 구매3, 구매4], axis=0)\n",
    "print(구매.shape)\n",
    "구매.head(3)"
   ]
  },
  {
   "cell_type": "markdown",
   "metadata": {},
   "source": [
    "# 2. 데이터 병합 및 전처리"
   ]
  },
  {
   "cell_type": "markdown",
   "metadata": {},
   "source": [
    "## 2.1 데이터 병합"
   ]
  },
  {
   "cell_type": "markdown",
   "metadata": {},
   "source": [
    "일시 기준으로 구매, 날씨 데이터를 병합한 후,\n",
    "\n",
    "일시, 대분류명, 소분류명을 기준으로 소셜 데이터 병합"
   ]
  },
  {
   "cell_type": "code",
   "execution_count": 5,
   "metadata": {},
   "outputs": [],
   "source": [
    "구매['일시'] = 구매['일시'].apply(lambda x: datetime.strptime(str(x), '%Y%m%d'))\n",
    "날씨['일시'] = 날씨['일시'].apply(lambda x: datetime.strptime(x, '%Y-%m-%d'))\n",
    "소셜['일시'] = 소셜['일시'].apply(lambda x: datetime.strptime(str(x), '%Y%m%d'))"
   ]
  },
  {
   "cell_type": "code",
   "execution_count": 6,
   "metadata": {},
   "outputs": [
    {
     "name": "stdout",
     "output_type": "stream",
     "text": [
      "datetime64[ns]\n",
      "datetime64[ns]\n",
      "datetime64[ns]\n"
     ]
    }
   ],
   "source": [
    "print(구매['일시'].dtype)\n",
    "print(날씨['일시'].dtype)\n",
    "print(소셜['일시'].dtype)"
   ]
  },
  {
   "cell_type": "code",
   "execution_count": 7,
   "metadata": {},
   "outputs": [
    {
     "name": "stdout",
     "output_type": "stream",
     "text": [
      "(2056899, 14)\n"
     ]
    },
    {
     "data": {
      "text/html": [
       "<div>\n",
       "<style scoped>\n",
       "    .dataframe tbody tr th:only-of-type {\n",
       "        vertical-align: middle;\n",
       "    }\n",
       "\n",
       "    .dataframe tbody tr th {\n",
       "        vertical-align: top;\n",
       "    }\n",
       "\n",
       "    .dataframe thead th {\n",
       "        text-align: right;\n",
       "    }\n",
       "</style>\n",
       "<table border=\"1\" class=\"dataframe\">\n",
       "  <thead>\n",
       "    <tr style=\"text-align: right;\">\n",
       "      <th></th>\n",
       "      <th>일시</th>\n",
       "      <th>성별</th>\n",
       "      <th>연령대</th>\n",
       "      <th>대분류명</th>\n",
       "      <th>소분류명</th>\n",
       "      <th>구매건수</th>\n",
       "      <th>평균기온(℃)</th>\n",
       "      <th>평균일강수량(mm)</th>\n",
       "      <th>평균풍속(km/h)</th>\n",
       "      <th>평균습도(%rh)</th>\n",
       "      <th>일조합</th>\n",
       "      <th>일사합</th>\n",
       "      <th>체감온도(℃)</th>\n",
       "      <th>일 미세먼지 농도(㎍/㎥)</th>\n",
       "    </tr>\n",
       "  </thead>\n",
       "  <tbody>\n",
       "    <tr>\n",
       "      <th>0</th>\n",
       "      <td>2018-01-01</td>\n",
       "      <td>F</td>\n",
       "      <td>20</td>\n",
       "      <td>식품</td>\n",
       "      <td>가공란</td>\n",
       "      <td>37</td>\n",
       "      <td>-0.4</td>\n",
       "      <td>0.0</td>\n",
       "      <td>6.84</td>\n",
       "      <td>51.0</td>\n",
       "      <td>8.7</td>\n",
       "      <td>9.31</td>\n",
       "      <td>-2.810026</td>\n",
       "      <td>32.962963</td>\n",
       "    </tr>\n",
       "    <tr>\n",
       "      <th>1</th>\n",
       "      <td>2018-01-01</td>\n",
       "      <td>F</td>\n",
       "      <td>30</td>\n",
       "      <td>식품</td>\n",
       "      <td>가공란</td>\n",
       "      <td>16</td>\n",
       "      <td>-0.4</td>\n",
       "      <td>0.0</td>\n",
       "      <td>6.84</td>\n",
       "      <td>51.0</td>\n",
       "      <td>8.7</td>\n",
       "      <td>9.31</td>\n",
       "      <td>-2.810026</td>\n",
       "      <td>32.962963</td>\n",
       "    </tr>\n",
       "    <tr>\n",
       "      <th>2</th>\n",
       "      <td>2018-01-01</td>\n",
       "      <td>F</td>\n",
       "      <td>40</td>\n",
       "      <td>식품</td>\n",
       "      <td>가공란</td>\n",
       "      <td>9</td>\n",
       "      <td>-0.4</td>\n",
       "      <td>0.0</td>\n",
       "      <td>6.84</td>\n",
       "      <td>51.0</td>\n",
       "      <td>8.7</td>\n",
       "      <td>9.31</td>\n",
       "      <td>-2.810026</td>\n",
       "      <td>32.962963</td>\n",
       "    </tr>\n",
       "  </tbody>\n",
       "</table>\n",
       "</div>"
      ],
      "text/plain": [
       "          일시 성별  연령대 대분류명 소분류명  구매건수  평균기온(℃)  평균일강수량(mm)  평균풍속(km/h)  \\\n",
       "0 2018-01-01  F   20   식품  가공란    37     -0.4         0.0        6.84   \n",
       "1 2018-01-01  F   30   식품  가공란    16     -0.4         0.0        6.84   \n",
       "2 2018-01-01  F   40   식품  가공란     9     -0.4         0.0        6.84   \n",
       "\n",
       "   평균습도(%rh)  일조합   일사합   체감온도(℃)  일 미세먼지 농도(㎍/㎥)  \n",
       "0       51.0  8.7  9.31 -2.810026       32.962963  \n",
       "1       51.0  8.7  9.31 -2.810026       32.962963  \n",
       "2       51.0  8.7  9.31 -2.810026       32.962963  "
      ]
     },
     "execution_count": 7,
     "metadata": {},
     "output_type": "execute_result"
    }
   ],
   "source": [
    "# 구매 - 날씨 데이터 병합\n",
    "m_data = pd.merge(구매, 날씨, on='일시')\n",
    "print(m_data.shape)\n",
    "m_data.head(3)"
   ]
  },
  {
   "cell_type": "code",
   "execution_count": 8,
   "metadata": {},
   "outputs": [
    {
     "name": "stdout",
     "output_type": "stream",
     "text": [
      "(2056899, 15)\n"
     ]
    },
    {
     "data": {
      "text/html": [
       "<div>\n",
       "<style scoped>\n",
       "    .dataframe tbody tr th:only-of-type {\n",
       "        vertical-align: middle;\n",
       "    }\n",
       "\n",
       "    .dataframe tbody tr th {\n",
       "        vertical-align: top;\n",
       "    }\n",
       "\n",
       "    .dataframe thead th {\n",
       "        text-align: right;\n",
       "    }\n",
       "</style>\n",
       "<table border=\"1\" class=\"dataframe\">\n",
       "  <thead>\n",
       "    <tr style=\"text-align: right;\">\n",
       "      <th></th>\n",
       "      <th>일시</th>\n",
       "      <th>성별</th>\n",
       "      <th>연령대</th>\n",
       "      <th>대분류명</th>\n",
       "      <th>소분류명</th>\n",
       "      <th>구매건수</th>\n",
       "      <th>평균기온(℃)</th>\n",
       "      <th>평균일강수량(mm)</th>\n",
       "      <th>평균풍속(km/h)</th>\n",
       "      <th>평균습도(%rh)</th>\n",
       "      <th>일조합</th>\n",
       "      <th>일사합</th>\n",
       "      <th>체감온도(℃)</th>\n",
       "      <th>일 미세먼지 농도(㎍/㎥)</th>\n",
       "      <th>10만건당 건수</th>\n",
       "    </tr>\n",
       "  </thead>\n",
       "  <tbody>\n",
       "    <tr>\n",
       "      <th>0</th>\n",
       "      <td>2018-01-01</td>\n",
       "      <td>F</td>\n",
       "      <td>20</td>\n",
       "      <td>식품</td>\n",
       "      <td>가공란</td>\n",
       "      <td>37</td>\n",
       "      <td>-0.4</td>\n",
       "      <td>0.0</td>\n",
       "      <td>6.84</td>\n",
       "      <td>51.0</td>\n",
       "      <td>8.7</td>\n",
       "      <td>9.31</td>\n",
       "      <td>-2.810026</td>\n",
       "      <td>32.962963</td>\n",
       "      <td>0.480964</td>\n",
       "    </tr>\n",
       "    <tr>\n",
       "      <th>1</th>\n",
       "      <td>2018-01-01</td>\n",
       "      <td>F</td>\n",
       "      <td>30</td>\n",
       "      <td>식품</td>\n",
       "      <td>가공란</td>\n",
       "      <td>16</td>\n",
       "      <td>-0.4</td>\n",
       "      <td>0.0</td>\n",
       "      <td>6.84</td>\n",
       "      <td>51.0</td>\n",
       "      <td>8.7</td>\n",
       "      <td>9.31</td>\n",
       "      <td>-2.810026</td>\n",
       "      <td>32.962963</td>\n",
       "      <td>0.480964</td>\n",
       "    </tr>\n",
       "    <tr>\n",
       "      <th>2</th>\n",
       "      <td>2018-01-01</td>\n",
       "      <td>F</td>\n",
       "      <td>40</td>\n",
       "      <td>식품</td>\n",
       "      <td>가공란</td>\n",
       "      <td>9</td>\n",
       "      <td>-0.4</td>\n",
       "      <td>0.0</td>\n",
       "      <td>6.84</td>\n",
       "      <td>51.0</td>\n",
       "      <td>8.7</td>\n",
       "      <td>9.31</td>\n",
       "      <td>-2.810026</td>\n",
       "      <td>32.962963</td>\n",
       "      <td>0.480964</td>\n",
       "    </tr>\n",
       "  </tbody>\n",
       "</table>\n",
       "</div>"
      ],
      "text/plain": [
       "          일시 성별  연령대 대분류명 소분류명  구매건수  평균기온(℃)  평균일강수량(mm)  평균풍속(km/h)  \\\n",
       "0 2018-01-01  F   20   식품  가공란    37     -0.4         0.0        6.84   \n",
       "1 2018-01-01  F   30   식품  가공란    16     -0.4         0.0        6.84   \n",
       "2 2018-01-01  F   40   식품  가공란     9     -0.4         0.0        6.84   \n",
       "\n",
       "   평균습도(%rh)  일조합   일사합   체감온도(℃)  일 미세먼지 농도(㎍/㎥)  10만건당 건수  \n",
       "0       51.0  8.7  9.31 -2.810026       32.962963  0.480964  \n",
       "1       51.0  8.7  9.31 -2.810026       32.962963  0.480964  \n",
       "2       51.0  8.7  9.31 -2.810026       32.962963  0.480964  "
      ]
     },
     "execution_count": 8,
     "metadata": {},
     "output_type": "execute_result"
    }
   ],
   "source": [
    "# data - 소셜 데이터 병합\n",
    "data = pd.merge(m_data, 소셜, on=['일시','대분류명','소분류명'])\n",
    "print(data.shape)\n",
    "data.head(3)"
   ]
  },
  {
   "cell_type": "code",
   "execution_count": 9,
   "metadata": {},
   "outputs": [],
   "source": [
    "# data.to_csv('./data/total_merged_data.csv', index=False)"
   ]
  },
  {
   "cell_type": "markdown",
   "metadata": {},
   "source": [
    "## 2.2 데이터 유형 변환"
   ]
  },
  {
   "cell_type": "code",
   "execution_count": 2,
   "metadata": {},
   "outputs": [
    {
     "name": "stdout",
     "output_type": "stream",
     "text": [
      "(2056899, 15)\n"
     ]
    },
    {
     "data": {
      "text/html": [
       "<div>\n",
       "<style scoped>\n",
       "    .dataframe tbody tr th:only-of-type {\n",
       "        vertical-align: middle;\n",
       "    }\n",
       "\n",
       "    .dataframe tbody tr th {\n",
       "        vertical-align: top;\n",
       "    }\n",
       "\n",
       "    .dataframe thead th {\n",
       "        text-align: right;\n",
       "    }\n",
       "</style>\n",
       "<table border=\"1\" class=\"dataframe\">\n",
       "  <thead>\n",
       "    <tr style=\"text-align: right;\">\n",
       "      <th></th>\n",
       "      <th>일시</th>\n",
       "      <th>성별</th>\n",
       "      <th>연령대</th>\n",
       "      <th>대분류명</th>\n",
       "      <th>소분류명</th>\n",
       "      <th>구매건수</th>\n",
       "      <th>평균기온(℃)</th>\n",
       "      <th>평균일강수량(mm)</th>\n",
       "      <th>평균풍속(km/h)</th>\n",
       "      <th>평균습도(%rh)</th>\n",
       "      <th>일조합</th>\n",
       "      <th>일사합</th>\n",
       "      <th>체감온도(℃)</th>\n",
       "      <th>일 미세먼지 농도(㎍/㎥)</th>\n",
       "      <th>10만건당 건수</th>\n",
       "    </tr>\n",
       "  </thead>\n",
       "  <tbody>\n",
       "    <tr>\n",
       "      <th>0</th>\n",
       "      <td>2018-01-01</td>\n",
       "      <td>F</td>\n",
       "      <td>20</td>\n",
       "      <td>식품</td>\n",
       "      <td>가공란</td>\n",
       "      <td>37</td>\n",
       "      <td>-0.4</td>\n",
       "      <td>0.0</td>\n",
       "      <td>6.84</td>\n",
       "      <td>51.0</td>\n",
       "      <td>8.7</td>\n",
       "      <td>9.31</td>\n",
       "      <td>-2.810026</td>\n",
       "      <td>32.962963</td>\n",
       "      <td>0.480964</td>\n",
       "    </tr>\n",
       "    <tr>\n",
       "      <th>1</th>\n",
       "      <td>2018-01-01</td>\n",
       "      <td>F</td>\n",
       "      <td>30</td>\n",
       "      <td>식품</td>\n",
       "      <td>가공란</td>\n",
       "      <td>16</td>\n",
       "      <td>-0.4</td>\n",
       "      <td>0.0</td>\n",
       "      <td>6.84</td>\n",
       "      <td>51.0</td>\n",
       "      <td>8.7</td>\n",
       "      <td>9.31</td>\n",
       "      <td>-2.810026</td>\n",
       "      <td>32.962963</td>\n",
       "      <td>0.480964</td>\n",
       "    </tr>\n",
       "    <tr>\n",
       "      <th>2</th>\n",
       "      <td>2018-01-01</td>\n",
       "      <td>F</td>\n",
       "      <td>40</td>\n",
       "      <td>식품</td>\n",
       "      <td>가공란</td>\n",
       "      <td>9</td>\n",
       "      <td>-0.4</td>\n",
       "      <td>0.0</td>\n",
       "      <td>6.84</td>\n",
       "      <td>51.0</td>\n",
       "      <td>8.7</td>\n",
       "      <td>9.31</td>\n",
       "      <td>-2.810026</td>\n",
       "      <td>32.962963</td>\n",
       "      <td>0.480964</td>\n",
       "    </tr>\n",
       "  </tbody>\n",
       "</table>\n",
       "</div>"
      ],
      "text/plain": [
       "           일시 성별  연령대 대분류명 소분류명  구매건수  평균기온(℃)  평균일강수량(mm)  평균풍속(km/h)  \\\n",
       "0  2018-01-01  F   20   식품  가공란    37     -0.4         0.0        6.84   \n",
       "1  2018-01-01  F   30   식품  가공란    16     -0.4         0.0        6.84   \n",
       "2  2018-01-01  F   40   식품  가공란     9     -0.4         0.0        6.84   \n",
       "\n",
       "   평균습도(%rh)  일조합   일사합   체감온도(℃)  일 미세먼지 농도(㎍/㎥)  10만건당 건수  \n",
       "0       51.0  8.7  9.31 -2.810026       32.962963  0.480964  \n",
       "1       51.0  8.7  9.31 -2.810026       32.962963  0.480964  \n",
       "2       51.0  8.7  9.31 -2.810026       32.962963  0.480964  "
      ]
     },
     "execution_count": 2,
     "metadata": {},
     "output_type": "execute_result"
    }
   ],
   "source": [
    "data = pd.read_csv('./data/total_merged_data.csv')\n",
    "print(data.shape)\n",
    "data.head(3)"
   ]
  },
  {
   "cell_type": "code",
   "execution_count": 10,
   "metadata": {},
   "outputs": [
    {
     "name": "stdout",
     "output_type": "stream",
     "text": [
      "<class 'pandas.core.frame.DataFrame'>\n",
      "Int64Index: 2056899 entries, 0 to 2056898\n",
      "Data columns (total 15 columns):\n",
      " #   Column          Dtype         \n",
      "---  ------          -----         \n",
      " 0   일시              datetime64[ns]\n",
      " 1   성별              object        \n",
      " 2   연령대             int64         \n",
      " 3   대분류명            object        \n",
      " 4   소분류명            object        \n",
      " 5   구매건수            int64         \n",
      " 6   평균기온(℃)         float64       \n",
      " 7   평균일강수량(mm)      float64       \n",
      " 8   평균풍속(km/h)      float64       \n",
      " 9   평균습도(%rh)       float64       \n",
      " 10  일조합             float64       \n",
      " 11  일사합             float64       \n",
      " 12  체감온도(℃)         float64       \n",
      " 13  일 미세먼지 농도(㎍/㎥)  float64       \n",
      " 14  10만건당 건수        float64       \n",
      "dtypes: datetime64[ns](1), float64(9), int64(2), object(3)\n",
      "memory usage: 251.1+ MB\n"
     ]
    }
   ],
   "source": [
    "data.info()"
   ]
  },
  {
   "cell_type": "markdown",
   "metadata": {},
   "source": [
    "일시는 날짜 형식, 연령대는 object 형식으로 변경"
   ]
  },
  {
   "cell_type": "code",
   "execution_count": 10,
   "metadata": {},
   "outputs": [],
   "source": [
    "data['일시'] = pd.to_datetime(data['일시'])\n",
    "data['연령대'] = data['연령대'].astype(object)"
   ]
  },
  {
   "cell_type": "markdown",
   "metadata": {},
   "source": [
    "## 2.3 파생변수 추가"
   ]
  },
  {
   "cell_type": "markdown",
   "metadata": {},
   "source": [
    "월, 일, 계절, 요일, 평일/주말, 공휴일 칼럼을 추가하고 일시 칼럼 삭제\n",
    "\n",
    "- 요일 (0: 월, 1: 화, 2: 수, 3: 목, 4: 금, 5: 토, 6: 일)\n",
    "\n",
    "\n",
    "- 평일/주말 (0: 평일, 1: 주말)\n",
    "\n",
    "\n",
    "- 계절 (3 ~ 5월: 봄, 6 ~ 8월: 여름, 9 ~ 11월: 가을, 12 ~ 2월: 겨울)\n",
    "\n",
    "\n",
    "- 공휴일 (0: 공휴일X, 1: 공휴일O)"
   ]
  },
  {
   "cell_type": "code",
   "execution_count": 11,
   "metadata": {},
   "outputs": [],
   "source": [
    "data2 = data.copy()\n",
    "data2['월'] = data2['일시'].dt.month\n",
    "data2['일'] = data2['일시'].dt.day\n",
    "data2['요일'] = data2['일시'].apply(lambda x: x.weekday())\n",
    "data2['평일/주말'] = 0\n",
    "data2.loc[(data2['요일']==5) | (data2['요일']==6), '평일/주말'] = 1\n",
    "data2['계절'] = 0\n",
    "data2.loc[(data2['월']>=3) & (data2['월']<=5), '계절'] = '봄'\n",
    "data2.loc[(data2['월']>=6) & (data2['월']<=8), '계절'] = '여름'\n",
    "data2.loc[(data2['월']>=9) & (data2['월']<=11), '계절'] = '가을'\n",
    "data2.loc[(data2['월']==12) | (data2['월']==1) | (data2['월']==2), '계절'] = '겨울'"
   ]
  },
  {
   "cell_type": "code",
   "execution_count": 12,
   "metadata": {},
   "outputs": [
    {
     "name": "stdout",
     "output_type": "stream",
     "text": [
      "(66, 5)\n"
     ]
    },
    {
     "data": {
      "text/html": [
       "<div>\n",
       "<style scoped>\n",
       "    .dataframe tbody tr th:only-of-type {\n",
       "        vertical-align: middle;\n",
       "    }\n",
       "\n",
       "    .dataframe tbody tr th {\n",
       "        vertical-align: top;\n",
       "    }\n",
       "\n",
       "    .dataframe thead th {\n",
       "        text-align: right;\n",
       "    }\n",
       "</style>\n",
       "<table border=\"1\" class=\"dataframe\">\n",
       "  <thead>\n",
       "    <tr style=\"text-align: right;\">\n",
       "      <th></th>\n",
       "      <th>순서</th>\n",
       "      <th>년</th>\n",
       "      <th>월</th>\n",
       "      <th>일</th>\n",
       "      <th>설명</th>\n",
       "    </tr>\n",
       "  </thead>\n",
       "  <tbody>\n",
       "    <tr>\n",
       "      <th>0</th>\n",
       "      <td>1</td>\n",
       "      <td>2018</td>\n",
       "      <td>1</td>\n",
       "      <td>1</td>\n",
       "      <td>새해</td>\n",
       "    </tr>\n",
       "    <tr>\n",
       "      <th>1</th>\n",
       "      <td>2</td>\n",
       "      <td>2018</td>\n",
       "      <td>2</td>\n",
       "      <td>15</td>\n",
       "      <td>설날</td>\n",
       "    </tr>\n",
       "    <tr>\n",
       "      <th>2</th>\n",
       "      <td>3</td>\n",
       "      <td>2018</td>\n",
       "      <td>2</td>\n",
       "      <td>16</td>\n",
       "      <td>설날</td>\n",
       "    </tr>\n",
       "  </tbody>\n",
       "</table>\n",
       "</div>"
      ],
      "text/plain": [
       "   순서     년  월   일  설명\n",
       "0   1  2018  1   1  새해\n",
       "1   2  2018  2  15  설날\n",
       "2   3  2018  2  16  설날"
      ]
     },
     "execution_count": 12,
     "metadata": {},
     "output_type": "execute_result"
    }
   ],
   "source": [
    "# 공휴일 파일 로드\n",
    "공휴일 = pd.read_excel('./data/국가공휴일.xlsx')\n",
    "print(공휴일.shape)\n",
    "공휴일.head(3)"
   ]
  },
  {
   "cell_type": "code",
   "execution_count": 13,
   "metadata": {},
   "outputs": [
    {
     "data": {
      "text/html": [
       "<div>\n",
       "<style scoped>\n",
       "    .dataframe tbody tr th:only-of-type {\n",
       "        vertical-align: middle;\n",
       "    }\n",
       "\n",
       "    .dataframe tbody tr th {\n",
       "        vertical-align: top;\n",
       "    }\n",
       "\n",
       "    .dataframe thead th {\n",
       "        text-align: right;\n",
       "    }\n",
       "</style>\n",
       "<table border=\"1\" class=\"dataframe\">\n",
       "  <thead>\n",
       "    <tr style=\"text-align: right;\">\n",
       "      <th></th>\n",
       "      <th>일시</th>\n",
       "      <th>공휴일</th>\n",
       "    </tr>\n",
       "  </thead>\n",
       "  <tbody>\n",
       "    <tr>\n",
       "      <th>0</th>\n",
       "      <td>2018-01-01</td>\n",
       "      <td>1</td>\n",
       "    </tr>\n",
       "    <tr>\n",
       "      <th>1</th>\n",
       "      <td>2018-02-15</td>\n",
       "      <td>1</td>\n",
       "    </tr>\n",
       "    <tr>\n",
       "      <th>2</th>\n",
       "      <td>2018-02-16</td>\n",
       "      <td>1</td>\n",
       "    </tr>\n",
       "  </tbody>\n",
       "</table>\n",
       "</div>"
      ],
      "text/plain": [
       "          일시  공휴일\n",
       "0 2018-01-01    1\n",
       "1 2018-02-15    1\n",
       "2 2018-02-16    1"
      ]
     },
     "execution_count": 13,
     "metadata": {},
     "output_type": "execute_result"
    }
   ],
   "source": [
    "공휴일['년'] = 공휴일['년'].astype(str)\n",
    "공휴일['월'] = 공휴일['월'].astype(str)\n",
    "공휴일['일'] = 공휴일['일'].astype(str)\n",
    "공휴일['일시'] = 공휴일['년'] + '-' + 공휴일['월'] + '-' + 공휴일['일']\n",
    "공휴일['일시'] = pd.to_datetime(공휴일['일시'])\n",
    "공휴일['설명'] = 1\n",
    "공휴일 = 공휴일[['일시', '설명']].rename(columns={'설명': '공휴일'})\n",
    "공휴일.head(3)"
   ]
  },
  {
   "cell_type": "code",
   "execution_count": 14,
   "metadata": {},
   "outputs": [
    {
     "data": {
      "text/html": [
       "<div>\n",
       "<style scoped>\n",
       "    .dataframe tbody tr th:only-of-type {\n",
       "        vertical-align: middle;\n",
       "    }\n",
       "\n",
       "    .dataframe tbody tr th {\n",
       "        vertical-align: top;\n",
       "    }\n",
       "\n",
       "    .dataframe thead th {\n",
       "        text-align: right;\n",
       "    }\n",
       "</style>\n",
       "<table border=\"1\" class=\"dataframe\">\n",
       "  <thead>\n",
       "    <tr style=\"text-align: right;\">\n",
       "      <th></th>\n",
       "      <th>일시</th>\n",
       "      <th>성별</th>\n",
       "      <th>연령대</th>\n",
       "      <th>대분류명</th>\n",
       "      <th>소분류명</th>\n",
       "      <th>구매건수</th>\n",
       "      <th>평균기온(℃)</th>\n",
       "      <th>평균일강수량(mm)</th>\n",
       "      <th>평균풍속(km/h)</th>\n",
       "      <th>평균습도(%rh)</th>\n",
       "      <th>...</th>\n",
       "      <th>일사합</th>\n",
       "      <th>체감온도(℃)</th>\n",
       "      <th>일 미세먼지 농도(㎍/㎥)</th>\n",
       "      <th>10만건당 건수</th>\n",
       "      <th>월</th>\n",
       "      <th>일</th>\n",
       "      <th>요일</th>\n",
       "      <th>평일/주말</th>\n",
       "      <th>계절</th>\n",
       "      <th>공휴일</th>\n",
       "    </tr>\n",
       "  </thead>\n",
       "  <tbody>\n",
       "    <tr>\n",
       "      <th>0</th>\n",
       "      <td>2018-01-01</td>\n",
       "      <td>F</td>\n",
       "      <td>20</td>\n",
       "      <td>식품</td>\n",
       "      <td>가공란</td>\n",
       "      <td>37</td>\n",
       "      <td>-0.4</td>\n",
       "      <td>0.0</td>\n",
       "      <td>6.84</td>\n",
       "      <td>51.0</td>\n",
       "      <td>...</td>\n",
       "      <td>9.31</td>\n",
       "      <td>-2.810026</td>\n",
       "      <td>32.962963</td>\n",
       "      <td>0.480964</td>\n",
       "      <td>1</td>\n",
       "      <td>1</td>\n",
       "      <td>0</td>\n",
       "      <td>0</td>\n",
       "      <td>겨울</td>\n",
       "      <td>1.0</td>\n",
       "    </tr>\n",
       "    <tr>\n",
       "      <th>1</th>\n",
       "      <td>2018-01-01</td>\n",
       "      <td>F</td>\n",
       "      <td>30</td>\n",
       "      <td>식품</td>\n",
       "      <td>가공란</td>\n",
       "      <td>16</td>\n",
       "      <td>-0.4</td>\n",
       "      <td>0.0</td>\n",
       "      <td>6.84</td>\n",
       "      <td>51.0</td>\n",
       "      <td>...</td>\n",
       "      <td>9.31</td>\n",
       "      <td>-2.810026</td>\n",
       "      <td>32.962963</td>\n",
       "      <td>0.480964</td>\n",
       "      <td>1</td>\n",
       "      <td>1</td>\n",
       "      <td>0</td>\n",
       "      <td>0</td>\n",
       "      <td>겨울</td>\n",
       "      <td>1.0</td>\n",
       "    </tr>\n",
       "    <tr>\n",
       "      <th>2</th>\n",
       "      <td>2018-01-01</td>\n",
       "      <td>F</td>\n",
       "      <td>40</td>\n",
       "      <td>식품</td>\n",
       "      <td>가공란</td>\n",
       "      <td>9</td>\n",
       "      <td>-0.4</td>\n",
       "      <td>0.0</td>\n",
       "      <td>6.84</td>\n",
       "      <td>51.0</td>\n",
       "      <td>...</td>\n",
       "      <td>9.31</td>\n",
       "      <td>-2.810026</td>\n",
       "      <td>32.962963</td>\n",
       "      <td>0.480964</td>\n",
       "      <td>1</td>\n",
       "      <td>1</td>\n",
       "      <td>0</td>\n",
       "      <td>0</td>\n",
       "      <td>겨울</td>\n",
       "      <td>1.0</td>\n",
       "    </tr>\n",
       "  </tbody>\n",
       "</table>\n",
       "<p>3 rows × 21 columns</p>\n",
       "</div>"
      ],
      "text/plain": [
       "          일시 성별 연령대 대분류명 소분류명  구매건수  평균기온(℃)  평균일강수량(mm)  평균풍속(km/h)  \\\n",
       "0 2018-01-01  F  20   식품  가공란    37     -0.4         0.0        6.84   \n",
       "1 2018-01-01  F  30   식품  가공란    16     -0.4         0.0        6.84   \n",
       "2 2018-01-01  F  40   식품  가공란     9     -0.4         0.0        6.84   \n",
       "\n",
       "   평균습도(%rh)  ...   일사합   체감온도(℃)  일 미세먼지 농도(㎍/㎥)  10만건당 건수  월  일  요일  평일/주말  \\\n",
       "0       51.0  ...  9.31 -2.810026       32.962963  0.480964  1  1   0      0   \n",
       "1       51.0  ...  9.31 -2.810026       32.962963  0.480964  1  1   0      0   \n",
       "2       51.0  ...  9.31 -2.810026       32.962963  0.480964  1  1   0      0   \n",
       "\n",
       "   계절  공휴일  \n",
       "0  겨울  1.0  \n",
       "1  겨울  1.0  \n",
       "2  겨울  1.0  \n",
       "\n",
       "[3 rows x 21 columns]"
      ]
     },
     "execution_count": 14,
     "metadata": {},
     "output_type": "execute_result"
    }
   ],
   "source": [
    "data3 = pd.merge(data2, 공휴일, on='일시', how='left')\n",
    "data3.head(3)"
   ]
  },
  {
   "cell_type": "code",
   "execution_count": 15,
   "metadata": {},
   "outputs": [],
   "source": [
    "data3['공휴일'] = data3['공휴일'].apply(lambda x: 0 if x!=1 else x)"
   ]
  },
  {
   "cell_type": "code",
   "execution_count": 16,
   "metadata": {},
   "outputs": [
    {
     "data": {
      "text/plain": [
       "Index(['일시', '성별', '연령대', '대분류명', '소분류명', '구매건수', '평균기온(℃)', '평균일강수량(mm)',\n",
       "       '평균풍속(km/h)', '평균습도(%rh)', '일조합', '일사합', '체감온도(℃)', '일 미세먼지 농도(㎍/㎥)',\n",
       "       '10만건당 건수', '월', '일', '요일', '평일/주말', '계절', '공휴일'],\n",
       "      dtype='object')"
      ]
     },
     "execution_count": 16,
     "metadata": {},
     "output_type": "execute_result"
    }
   ],
   "source": [
    "data3.columns"
   ]
  },
  {
   "cell_type": "code",
   "execution_count": 17,
   "metadata": {},
   "outputs": [
    {
     "name": "stdout",
     "output_type": "stream",
     "text": [
      "(2056899, 20)\n"
     ]
    },
    {
     "data": {
      "text/html": [
       "<div>\n",
       "<style scoped>\n",
       "    .dataframe tbody tr th:only-of-type {\n",
       "        vertical-align: middle;\n",
       "    }\n",
       "\n",
       "    .dataframe tbody tr th {\n",
       "        vertical-align: top;\n",
       "    }\n",
       "\n",
       "    .dataframe thead th {\n",
       "        text-align: right;\n",
       "    }\n",
       "</style>\n",
       "<table border=\"1\" class=\"dataframe\">\n",
       "  <thead>\n",
       "    <tr style=\"text-align: right;\">\n",
       "      <th></th>\n",
       "      <th>계절</th>\n",
       "      <th>월</th>\n",
       "      <th>일</th>\n",
       "      <th>요일</th>\n",
       "      <th>평일/주말</th>\n",
       "      <th>공휴일</th>\n",
       "      <th>성별</th>\n",
       "      <th>연령대</th>\n",
       "      <th>대분류명</th>\n",
       "      <th>소분류명</th>\n",
       "      <th>평균기온(℃)</th>\n",
       "      <th>평균일강수량(mm)</th>\n",
       "      <th>평균풍속(km/h)</th>\n",
       "      <th>평균습도(%rh)</th>\n",
       "      <th>일조합</th>\n",
       "      <th>일사합</th>\n",
       "      <th>체감온도(℃)</th>\n",
       "      <th>일 미세먼지 농도(㎍/㎥)</th>\n",
       "      <th>10만건당 건수</th>\n",
       "      <th>구매건수</th>\n",
       "    </tr>\n",
       "  </thead>\n",
       "  <tbody>\n",
       "    <tr>\n",
       "      <th>0</th>\n",
       "      <td>겨울</td>\n",
       "      <td>1</td>\n",
       "      <td>1</td>\n",
       "      <td>0</td>\n",
       "      <td>0</td>\n",
       "      <td>1.0</td>\n",
       "      <td>F</td>\n",
       "      <td>20</td>\n",
       "      <td>식품</td>\n",
       "      <td>가공란</td>\n",
       "      <td>-0.4</td>\n",
       "      <td>0.0</td>\n",
       "      <td>6.84</td>\n",
       "      <td>51.0</td>\n",
       "      <td>8.7</td>\n",
       "      <td>9.31</td>\n",
       "      <td>-2.810026</td>\n",
       "      <td>32.962963</td>\n",
       "      <td>0.480964</td>\n",
       "      <td>37</td>\n",
       "    </tr>\n",
       "    <tr>\n",
       "      <th>1</th>\n",
       "      <td>겨울</td>\n",
       "      <td>1</td>\n",
       "      <td>1</td>\n",
       "      <td>0</td>\n",
       "      <td>0</td>\n",
       "      <td>1.0</td>\n",
       "      <td>F</td>\n",
       "      <td>30</td>\n",
       "      <td>식품</td>\n",
       "      <td>가공란</td>\n",
       "      <td>-0.4</td>\n",
       "      <td>0.0</td>\n",
       "      <td>6.84</td>\n",
       "      <td>51.0</td>\n",
       "      <td>8.7</td>\n",
       "      <td>9.31</td>\n",
       "      <td>-2.810026</td>\n",
       "      <td>32.962963</td>\n",
       "      <td>0.480964</td>\n",
       "      <td>16</td>\n",
       "    </tr>\n",
       "    <tr>\n",
       "      <th>2</th>\n",
       "      <td>겨울</td>\n",
       "      <td>1</td>\n",
       "      <td>1</td>\n",
       "      <td>0</td>\n",
       "      <td>0</td>\n",
       "      <td>1.0</td>\n",
       "      <td>F</td>\n",
       "      <td>40</td>\n",
       "      <td>식품</td>\n",
       "      <td>가공란</td>\n",
       "      <td>-0.4</td>\n",
       "      <td>0.0</td>\n",
       "      <td>6.84</td>\n",
       "      <td>51.0</td>\n",
       "      <td>8.7</td>\n",
       "      <td>9.31</td>\n",
       "      <td>-2.810026</td>\n",
       "      <td>32.962963</td>\n",
       "      <td>0.480964</td>\n",
       "      <td>9</td>\n",
       "    </tr>\n",
       "  </tbody>\n",
       "</table>\n",
       "</div>"
      ],
      "text/plain": [
       "   계절  월  일  요일  평일/주말  공휴일 성별 연령대 대분류명 소분류명  평균기온(℃)  평균일강수량(mm)  평균풍속(km/h)  \\\n",
       "0  겨울  1  1   0      0  1.0  F  20   식품  가공란     -0.4         0.0        6.84   \n",
       "1  겨울  1  1   0      0  1.0  F  30   식품  가공란     -0.4         0.0        6.84   \n",
       "2  겨울  1  1   0      0  1.0  F  40   식품  가공란     -0.4         0.0        6.84   \n",
       "\n",
       "   평균습도(%rh)  일조합   일사합   체감온도(℃)  일 미세먼지 농도(㎍/㎥)  10만건당 건수  구매건수  \n",
       "0       51.0  8.7  9.31 -2.810026       32.962963  0.480964    37  \n",
       "1       51.0  8.7  9.31 -2.810026       32.962963  0.480964    16  \n",
       "2       51.0  8.7  9.31 -2.810026       32.962963  0.480964     9  "
      ]
     },
     "execution_count": 17,
     "metadata": {},
     "output_type": "execute_result"
    }
   ],
   "source": [
    "data3.drop('일시', axis=1, inplace=True)\n",
    "data3 = data3[['계절','월','일','요일','평일/주말','공휴일','성별','연령대','대분류명','소분류명',\\\n",
    "               '평균기온(℃)','평균일강수량(mm)','평균풍속(km/h)','평균습도(%rh)','일조합','일사합',\\\n",
    "               '체감온도(℃)','일 미세먼지 농도(㎍/㎥)','10만건당 건수','구매건수']]\n",
    "print(data3.shape)\n",
    "data3.head(3)"
   ]
  },
  {
   "cell_type": "code",
   "execution_count": 18,
   "metadata": {},
   "outputs": [],
   "source": [
    "# data3.to_csv('./data/preprocessed_data.csv', index=False)"
   ]
  },
  {
   "cell_type": "code",
   "execution_count": 19,
   "metadata": {},
   "outputs": [
    {
     "name": "stdout",
     "output_type": "stream",
     "text": [
      "<class 'pandas.core.frame.DataFrame'>\n",
      "Int64Index: 2056899 entries, 0 to 2056898\n",
      "Data columns (total 20 columns):\n",
      " #   Column          Dtype  \n",
      "---  ------          -----  \n",
      " 0   계절              object \n",
      " 1   월               int64  \n",
      " 2   일               int64  \n",
      " 3   요일              int64  \n",
      " 4   평일/주말           int64  \n",
      " 5   공휴일             float64\n",
      " 6   성별              object \n",
      " 7   연령대             object \n",
      " 8   대분류명            object \n",
      " 9   소분류명            object \n",
      " 10  평균기온(℃)         float64\n",
      " 11  평균일강수량(mm)      float64\n",
      " 12  평균풍속(km/h)      float64\n",
      " 13  평균습도(%rh)       float64\n",
      " 14  일조합             float64\n",
      " 15  일사합             float64\n",
      " 16  체감온도(℃)         float64\n",
      " 17  일 미세먼지 농도(㎍/㎥)  float64\n",
      " 18  10만건당 건수        float64\n",
      " 19  구매건수            int64  \n",
      "dtypes: float64(10), int64(5), object(5)\n",
      "memory usage: 329.6+ MB\n"
     ]
    }
   ],
   "source": [
    "data3.info()"
   ]
  },
  {
   "cell_type": "code",
   "execution_count": 26,
   "metadata": {},
   "outputs": [],
   "source": [
    "data3['월'] = data3['월'].astype(object)\n",
    "data3['일'] = data3['일'].astype(object)\n",
    "data3['요일'] = data3['요일'].astype(object)\n",
    "data3['평일/주말'] = data3['평일/주말'].astype(object)\n",
    "data3['공휴일'] = data3['공휴일'].astype(object)"
   ]
  },
  {
   "cell_type": "markdown",
   "metadata": {},
   "source": [
    "# 3. EDA"
   ]
  },
  {
   "cell_type": "markdown",
   "metadata": {},
   "source": [
    "## 3.1 종속변수 분포"
   ]
  },
  {
   "cell_type": "code",
   "execution_count": 27,
   "metadata": {},
   "outputs": [
    {
     "data": {
      "text/plain": [
       "<matplotlib.axes._subplots.AxesSubplot at 0x1f2129108e0>"
      ]
     },
     "execution_count": 27,
     "metadata": {},
     "output_type": "execute_result"
    },
    {
     "data": {
      "image/png": "[encoded data removed]",
      "text/plain": [
       "<Figure size 432x288 with 1 Axes>"
      ]
     },
     "metadata": {
      "needs_background": "light"
     },
     "output_type": "display_data"
    }
   ],
   "source": [
    "plt.rcParams['font.family'] = 'Malgun Gothic'\n",
    "sns.distplot(data3.구매건수)"
   ]
  },
  {
   "cell_type": "markdown",
   "metadata": {},
   "source": [
    "## 3.2 독립변수 (명목형) 분포"
   ]
  },
  {
   "cell_type": "code",
   "execution_count": 28,
   "metadata": {},
   "outputs": [
    {
     "data": {
      "text/plain": [
       "['계절', '월', '일', '요일', '평일/주말', '공휴일', '성별', '연령대', '대분류명', '소분류명']"
      ]
     },
     "execution_count": 28,
     "metadata": {},
     "output_type": "execute_result"
    }
   ],
   "source": [
    "ob_feature = [i for i in data3.columns if data3[i].dtype==object]\n",
    "ob_feature"
   ]
  },
  {
   "cell_type": "code",
   "execution_count": 29,
   "metadata": {},
   "outputs": [],
   "source": [
    "# '일' 변수와 '소분류명' 변수는 값이 많으므로 그래프를 따로 생성하여 확인\n",
    "ob_feature.remove('일')\n",
    "ob_feature.remove('소분류명')"
   ]
  },
  {
   "cell_type": "code",
   "execution_count": 30,
   "metadata": {},
   "outputs": [
    {
     "data": {
      "text/plain": [
       "['계절', '월', '요일', '평일/주말', '공휴일', '성별', '연령대', '대분류명']"
      ]
     },
     "execution_count": 30,
     "metadata": {},
     "output_type": "execute_result"
    }
   ],
   "source": [
    "ob_feature"
   ]
  },
  {
   "cell_type": "code",
   "execution_count": 31,
   "metadata": {},
   "outputs": [
    {
     "data": {
      "image/png": "[encoded data removed]",
      "text/plain": [
       "<Figure size 1440x720 with 8 Axes>"
      ]
     },
     "metadata": {
      "needs_background": "light"
     },
     "output_type": "display_data"
    }
   ],
   "source": [
    "fig, axs = plt.subplots(2,4, figsize=(20,10))\n",
    "for i, feature in enumerate(ob_feature):\n",
    "    row = int(i/4)\n",
    "    col = i%4\n",
    "    sns.countplot(data3[feature], ax=axs[row, col], palette='YlGnBu_d')\n",
    "    plt.setp(axs[row, col].get_xticklabels(), rotation=45, ha='right')"
   ]
  },
  {
   "cell_type": "code",
   "execution_count": 32,
   "metadata": {},
   "outputs": [
    {
     "data": {
      "text/plain": [
       "<matplotlib.axes._subplots.AxesSubplot at 0x1f2864baa60>"
      ]
     },
     "execution_count": 32,
     "metadata": {},
     "output_type": "execute_result"
    },
    {
     "data": {
      "image/png": "[encoded data removed]",
      "text/plain": [
       "<Figure size 1080x576 with 1 Axes>"
      ]
     },
     "metadata": {
      "needs_background": "light"
     },
     "output_type": "display_data"
    }
   ],
   "source": [
    "plt.figure(figsize=(15,8))\n",
    "sns.countplot(data3['일'], palette=\"YlGnBu_d\")"
   ]
  },
  {
   "cell_type": "code",
   "execution_count": 28,
   "metadata": {},
   "outputs": [
    {
     "data": {
      "text/plain": [
       "두유               7300\n",
       "인스턴트커피           7300\n",
       "생수               7300\n",
       "샴푸               7300\n",
       "기초 화장용 크림        7300\n",
       "쌀                7299\n",
       "한방 분말/환제품        7299\n",
       "비타민              7299\n",
       "홍삼액/홍삼정          7298\n",
       "프로바이오틱스          7298\n",
       "회                7297\n",
       "탄산음료             7296\n",
       "기초 화장용 에센스       7296\n",
       "헤어스타일링용 염색약      7295\n",
       "커피음료             7293\n",
       "흰우유              7292\n",
       "루테인/눈 영양제        7290\n",
       "오메가3/스쿠알렌 영양제    7288\n",
       "원두커피             7286\n",
       "배추김치             7285\n",
       "기초 화장용 로션        7285\n",
       "김치류              7285\n",
       "다이어트보조식          7281\n",
       "기초 화장용 스킨        7276\n",
       "스킨케어 마스크팩        7276\n",
       "과채 음료/주스         7275\n",
       "클렌징 폼            7272\n",
       "화장 비누            7270\n",
       "복분자/석류/과실즙       7266\n",
       "닭가슴살             7263\n",
       "Name: 소분류명, dtype: int64"
      ]
     },
     "execution_count": 28,
     "metadata": {},
     "output_type": "execute_result"
    }
   ],
   "source": [
    "# 상위 30개 소분류명\n",
    "data3['소분류명'].value_counts(ascending=False)[:30]"
   ]
  },
  {
   "cell_type": "code",
   "execution_count": 29,
   "metadata": {},
   "outputs": [
    {
     "data": {
      "text/plain": [
       "여성향수              11\n",
       "색조 메이크업 세트        76\n",
       "남성향수              76\n",
       "산림욕기             105\n",
       "중대형 에어컨          119\n",
       "가스온수기            136\n",
       "기능성 화이트닝 화장품     167\n",
       "난방용 열풍기          181\n",
       "향수세트             252\n",
       "에어커튼             280\n",
       "과일채소 분말/분태       304\n",
       "마/야콘             417\n",
       "천장형 에어컨          539\n",
       "영지버섯             768\n",
       "선파우더             812\n",
       "헤어무스             995\n",
       "구이/수육용 돈육       1034\n",
       "벽걸이형 냉온풍기       1037\n",
       "신발건조기           1071\n",
       "상황버섯            1116\n",
       "돈풍기             1121\n",
       "혼합곡             1283\n",
       "기능성 링클케어 화장품    1356\n",
       "보일러             1555\n",
       "우엉/연근           1560\n",
       "커피용 프림          1643\n",
       "건어물 건새우         1753\n",
       "태닝용 선크림         1939\n",
       "풋스프레이           2002\n",
       "가열식 가습기         2123\n",
       "Name: 소분류명, dtype: int64"
      ]
     },
     "execution_count": 29,
     "metadata": {},
     "output_type": "execute_result"
    }
   ],
   "source": [
    "# 하위 30개 소분류명\n",
    "data3['소분류명'].value_counts(ascending=True)[:30]"
   ]
  },
  {
   "cell_type": "markdown",
   "metadata": {},
   "source": [
    "## 3.3 독립변수 (명목형) - 구매건수"
   ]
  },
  {
   "cell_type": "code",
   "execution_count": 30,
   "metadata": {},
   "outputs": [
    {
     "data": {
      "text/plain": [
       "[<matplotlib.lines.Line2D at 0x263de9afe20>]"
      ]
     },
     "execution_count": 30,
     "metadata": {},
     "output_type": "execute_result"
    },
    {
     "data": {
      "image/png": "[encoded data removed]",
      "text/plain": [
       "<Figure size 1440x720 with 8 Axes>"
      ]
     },
     "metadata": {
      "needs_background": "light"
     },
     "output_type": "display_data"
    }
   ],
   "source": [
    "plt.figure(figsize=(20,10))\n",
    "plt.subplot(241)\n",
    "plt.plot(data3.groupby('계절')['구매건수'].mean())\n",
    "\n",
    "plt.subplot(242)\n",
    "plt.plot(data3.groupby('월')['구매건수'].mean())\n",
    "\n",
    "plt.subplot(243)\n",
    "plt.plot(data3.groupby('요일')['구매건수'].mean())\n",
    "\n",
    "plt.subplot(244)\n",
    "plt.plot(data3.groupby('평일/주말')['구매건수'].mean())\n",
    "\n",
    "plt.subplot(245)\n",
    "plt.plot(data3.groupby('공휴일')['구매건수'].mean())\n",
    "\n",
    "plt.subplot(246)\n",
    "plt.plot(data3.groupby('성별')['구매건수'].mean())\n",
    "\n",
    "plt.subplot(247)\n",
    "plt.plot(data3.groupby('연령대')['구매건수'].mean())\n",
    "\n",
    "plt.subplot(248)\n",
    "plt.plot(data3.groupby('대분류명')['구매건수'].mean())"
   ]
  },
  {
   "cell_type": "markdown",
   "metadata": {},
   "source": [
    "수치상 큰 차이는 없지만 **봄에 구매건수가 가장 많은 것으로 나타남**\n",
    "\n",
    "주말과 공휴일의 구매건수가 적은 것처럼 보이나, 데이터 수 자체가 상대적으로 적은 것이기 때문에 큰 의미는 없음 (평일/주말 변수는 제외해도 될듯)\n",
    "\n",
    "여성 데이터가 더 많은 것을 감안해도 남성보다는 **여성의 구매건수가 많음**\n",
    "\n",
    "**30대, 40대, 20대의 구매건수가 50대, 60대의 구매건수에 비해 약 2배 이상 많음**\n",
    "\n",
    "데이터는 식품이 가장 많지만 **구매건수는 뷰티가 가장 많음**"
   ]
  },
  {
   "cell_type": "code",
   "execution_count": 32,
   "metadata": {},
   "outputs": [
    {
     "data": {
      "text/plain": [
       "[<matplotlib.lines.Line2D at 0x263df28faf0>]"
      ]
     },
     "execution_count": 32,
     "metadata": {},
     "output_type": "execute_result"
    },
    {
     "data": {
      "image/png": "[encoded data removed]",
      "text/plain": [
       "<Figure size 1080x576 with 1 Axes>"
      ]
     },
     "metadata": {
      "needs_background": "light"
     },
     "output_type": "display_data"
    }
   ],
   "source": [
    "plt.figure(figsize=(15,8))\n",
    "plt.plot(data3.groupby('일')['구매건수'].mean())"
   ]
  },
  {
   "cell_type": "markdown",
   "metadata": {},
   "source": [
    "## 3.4 독립변수 (수치형) 분포"
   ]
  },
  {
   "cell_type": "code",
   "execution_count": 33,
   "metadata": {},
   "outputs": [
    {
     "data": {
      "text/plain": [
       "['일',\n",
       " '평균습도(%rh)',\n",
       " '평균일강수량(mm)',\n",
       " '평균기온(℃)',\n",
       " '10만건당 건수',\n",
       " '일사합',\n",
       " '소분류명',\n",
       " '일 미세먼지 농도(㎍/㎥)',\n",
       " '일조합',\n",
       " '구매건수',\n",
       " '평균풍속(km/h)',\n",
       " '체감온도(℃)']"
      ]
     },
     "execution_count": 33,
     "metadata": {},
     "output_type": "execute_result"
    }
   ],
   "source": [
    "nu_feature = list(set(data3.columns) - set(ob_feature))\n",
    "nu_feature"
   ]
  },
  {
   "cell_type": "code",
   "execution_count": 34,
   "metadata": {},
   "outputs": [],
   "source": [
    "nu_feature.remove('구매건수')\n",
    "nu_feature.remove('소분류명')\n",
    "nu_feature.remove('일')"
   ]
  },
  {
   "cell_type": "code",
   "execution_count": 35,
   "metadata": {},
   "outputs": [
    {
     "data": {
      "text/plain": [
       "['평균습도(%rh)',\n",
       " '평균일강수량(mm)',\n",
       " '평균기온(℃)',\n",
       " '10만건당 건수',\n",
       " '일사합',\n",
       " '일 미세먼지 농도(㎍/㎥)',\n",
       " '일조합',\n",
       " '평균풍속(km/h)',\n",
       " '체감온도(℃)']"
      ]
     },
     "execution_count": 35,
     "metadata": {},
     "output_type": "execute_result"
    }
   ],
   "source": [
    "nu_feature"
   ]
  },
  {
   "cell_type": "code",
   "execution_count": 36,
   "metadata": {},
   "outputs": [
    {
     "data": {
      "image/png": "[encoded data removed]",
      "text/plain": [
       "<Figure size 1440x720 with 10 Axes>"
      ]
     },
     "metadata": {
      "needs_background": "light"
     },
     "output_type": "display_data"
    }
   ],
   "source": [
    "fig, axs = plt.subplots(2, 5, figsize=(20,10))\n",
    "for i, feature in enumerate(nu_feature):\n",
    "    row = int(i/5)\n",
    "    col = i%5\n",
    "    sns.distplot(data[feature], ax=axs[row, col])"
   ]
  },
  {
   "cell_type": "code",
   "execution_count": 37,
   "metadata": {},
   "outputs": [
    {
     "data": {
      "image/png": "[encoded data removed]",
      "text/plain": [
       "<Figure size 1440x720 with 10 Axes>"
      ]
     },
     "metadata": {
      "needs_background": "light"
     },
     "output_type": "display_data"
    }
   ],
   "source": [
    "fig, axs = plt.subplots(2, 5, figsize=(20,10))\n",
    "for i, feature in enumerate(nu_feature):\n",
    "    row = int(i/5)\n",
    "    col = i%5\n",
    "    sns.boxplot(data[feature], ax=axs[row, col])"
   ]
  },
  {
   "cell_type": "markdown",
   "metadata": {},
   "source": [
    "4개 컬럼의 이상치 처리에 대한 논의 필요"
   ]
  },
  {
   "cell_type": "markdown",
   "metadata": {},
   "source": [
    "## 3.5 독립변수 (수치형) - 구매건수 상관관계"
   ]
  },
  {
   "cell_type": "code",
   "execution_count": 40,
   "metadata": {},
   "outputs": [
    {
     "data": {
      "text/plain": [
       "<matplotlib.axes._subplots.AxesSubplot at 0x1f29623c190>"
      ]
     },
     "execution_count": 40,
     "metadata": {},
     "output_type": "execute_result"
    },
    {
     "data": {
      "image/png": "[encoded data removed]",
      "text/plain": [
       "<Figure size 1080x720 with 2 Axes>"
      ]
     },
     "metadata": {
      "needs_background": "light"
     },
     "output_type": "display_data"
    }
   ],
   "source": [
    "plt.figure(figsize=(15,10))\n",
    "sns.heatmap(data3.corr(), annot=True, cmap='BuGn')"
   ]
  },
  {
   "cell_type": "markdown",
   "metadata": {},
   "source": [
    "**현재 수치형 독립변수와 구매건수 간의 상관관계가 있다고 보기 어려움**"
   ]
  },
  {
   "cell_type": "code",
   "execution_count": 39,
   "metadata": {},
   "outputs": [
    {
     "data": {
      "text/html": [
       "<div>\n",
       "<style scoped>\n",
       "    .dataframe tbody tr th:only-of-type {\n",
       "        vertical-align: middle;\n",
       "    }\n",
       "\n",
       "    .dataframe tbody tr th {\n",
       "        vertical-align: top;\n",
       "    }\n",
       "\n",
       "    .dataframe thead th {\n",
       "        text-align: right;\n",
       "    }\n",
       "</style>\n",
       "<table border=\"1\" class=\"dataframe\">\n",
       "  <thead>\n",
       "    <tr style=\"text-align: right;\">\n",
       "      <th></th>\n",
       "      <th>VIF Factor</th>\n",
       "      <th>features</th>\n",
       "    </tr>\n",
       "  </thead>\n",
       "  <tbody>\n",
       "    <tr>\n",
       "      <th>0</th>\n",
       "      <td>18.173298</td>\n",
       "      <td>평균습도(%rh)</td>\n",
       "    </tr>\n",
       "    <tr>\n",
       "      <th>1</th>\n",
       "      <td>52.610373</td>\n",
       "      <td>일사합</td>\n",
       "    </tr>\n",
       "    <tr>\n",
       "      <th>2</th>\n",
       "      <td>4353.631999</td>\n",
       "      <td>체감온도(℃)</td>\n",
       "    </tr>\n",
       "    <tr>\n",
       "      <th>3</th>\n",
       "      <td>5356.718625</td>\n",
       "      <td>평균기온(℃)</td>\n",
       "    </tr>\n",
       "    <tr>\n",
       "      <th>4</th>\n",
       "      <td>1.137435</td>\n",
       "      <td>10만건당 건수</td>\n",
       "    </tr>\n",
       "    <tr>\n",
       "      <th>5</th>\n",
       "      <td>48.010579</td>\n",
       "      <td>평균풍속(km/h)</td>\n",
       "    </tr>\n",
       "    <tr>\n",
       "      <th>6</th>\n",
       "      <td>1.914945</td>\n",
       "      <td>평균일강수량(mm)</td>\n",
       "    </tr>\n",
       "    <tr>\n",
       "      <th>7</th>\n",
       "      <td>31.031480</td>\n",
       "      <td>일조합</td>\n",
       "    </tr>\n",
       "  </tbody>\n",
       "</table>\n",
       "</div>"
      ],
      "text/plain": [
       "    VIF Factor    features\n",
       "0    18.173298   평균습도(%rh)\n",
       "1    52.610373         일사합\n",
       "2  4353.631999     체감온도(℃)\n",
       "3  5356.718625     평균기온(℃)\n",
       "4     1.137435    10만건당 건수\n",
       "5    48.010579  평균풍속(km/h)\n",
       "6     1.914945  평균일강수량(mm)\n",
       "7    31.031480         일조합"
      ]
     },
     "execution_count": 39,
     "metadata": {},
     "output_type": "execute_result"
    }
   ],
   "source": [
    "# 다중공선성 확인 (NaN 값이 있는 미세먼지 변수 제외)\n",
    "from statsmodels.stats.outliers_influence import variance_inflation_factor\n",
    "\n",
    "corr_df = data3[['평균습도(%rh)','일사합','체감온도(℃)','평균기온(℃)','10만건당 건수','평균풍속(km/h)',\\\n",
    "                 '평균일강수량(mm)','일조합']]\n",
    "vif = pd.DataFrame()\n",
    "vif[\"VIF Factor\"] = [variance_inflation_factor(corr_df.values, i) for i in range(corr_df.shape[1])]\n",
    "vif[\"features\"] = corr_df.columns\n",
    "vif"
   ]
  },
  {
   "cell_type": "code",
   "execution_count": 40,
   "metadata": {},
   "outputs": [
    {
     "data": {
      "text/html": [
       "<div>\n",
       "<style scoped>\n",
       "    .dataframe tbody tr th:only-of-type {\n",
       "        vertical-align: middle;\n",
       "    }\n",
       "\n",
       "    .dataframe tbody tr th {\n",
       "        vertical-align: top;\n",
       "    }\n",
       "\n",
       "    .dataframe thead th {\n",
       "        text-align: right;\n",
       "    }\n",
       "</style>\n",
       "<table border=\"1\" class=\"dataframe\">\n",
       "  <thead>\n",
       "    <tr style=\"text-align: right;\">\n",
       "      <th></th>\n",
       "      <th>VIF Factor</th>\n",
       "      <th>features</th>\n",
       "    </tr>\n",
       "  </thead>\n",
       "  <tbody>\n",
       "    <tr>\n",
       "      <th>0</th>\n",
       "      <td>12.283469</td>\n",
       "      <td>평균습도(%rh)</td>\n",
       "    </tr>\n",
       "    <tr>\n",
       "      <th>1</th>\n",
       "      <td>51.166780</td>\n",
       "      <td>일사합</td>\n",
       "    </tr>\n",
       "    <tr>\n",
       "      <th>2</th>\n",
       "      <td>9.596421</td>\n",
       "      <td>체감온도(℃)</td>\n",
       "    </tr>\n",
       "    <tr>\n",
       "      <th>3</th>\n",
       "      <td>1.137390</td>\n",
       "      <td>10만건당 건수</td>\n",
       "    </tr>\n",
       "    <tr>\n",
       "      <th>4</th>\n",
       "      <td>9.845120</td>\n",
       "      <td>평균풍속(km/h)</td>\n",
       "    </tr>\n",
       "    <tr>\n",
       "      <th>5</th>\n",
       "      <td>1.893143</td>\n",
       "      <td>평균일강수량(mm)</td>\n",
       "    </tr>\n",
       "    <tr>\n",
       "      <th>6</th>\n",
       "      <td>31.031411</td>\n",
       "      <td>일조합</td>\n",
       "    </tr>\n",
       "  </tbody>\n",
       "</table>\n",
       "</div>"
      ],
      "text/plain": [
       "   VIF Factor    features\n",
       "0   12.283469   평균습도(%rh)\n",
       "1   51.166780         일사합\n",
       "2    9.596421     체감온도(℃)\n",
       "3    1.137390    10만건당 건수\n",
       "4    9.845120  평균풍속(km/h)\n",
       "5    1.893143  평균일강수량(mm)\n",
       "6   31.031411         일조합"
      ]
     },
     "execution_count": 40,
     "metadata": {},
     "output_type": "execute_result"
    }
   ],
   "source": [
    "# VIF 계수 높은 평균기온 변수 제거\n",
    "corr_df = corr_df.drop(['평균기온(℃)'], axis=1)\n",
    "vif = pd.DataFrame()\n",
    "vif[\"VIF Factor\"] = [variance_inflation_factor(corr_df.values, i) for i in range(corr_df.shape[1])]\n",
    "vif[\"features\"] = corr_df.columns\n",
    "vif"
   ]
  },
  {
   "cell_type": "code",
   "execution_count": 41,
   "metadata": {},
   "outputs": [
    {
     "data": {
      "text/html": [
       "<div>\n",
       "<style scoped>\n",
       "    .dataframe tbody tr th:only-of-type {\n",
       "        vertical-align: middle;\n",
       "    }\n",
       "\n",
       "    .dataframe tbody tr th {\n",
       "        vertical-align: top;\n",
       "    }\n",
       "\n",
       "    .dataframe thead th {\n",
       "        text-align: right;\n",
       "    }\n",
       "</style>\n",
       "<table border=\"1\" class=\"dataframe\">\n",
       "  <thead>\n",
       "    <tr style=\"text-align: right;\">\n",
       "      <th></th>\n",
       "      <th>VIF Factor</th>\n",
       "      <th>features</th>\n",
       "    </tr>\n",
       "  </thead>\n",
       "  <tbody>\n",
       "    <tr>\n",
       "      <th>0</th>\n",
       "      <td>11.621080</td>\n",
       "      <td>평균습도(%rh)</td>\n",
       "    </tr>\n",
       "    <tr>\n",
       "      <th>1</th>\n",
       "      <td>3.631355</td>\n",
       "      <td>체감온도(℃)</td>\n",
       "    </tr>\n",
       "    <tr>\n",
       "      <th>2</th>\n",
       "      <td>1.137249</td>\n",
       "      <td>10만건당 건수</td>\n",
       "    </tr>\n",
       "    <tr>\n",
       "      <th>3</th>\n",
       "      <td>8.686661</td>\n",
       "      <td>평균풍속(km/h)</td>\n",
       "    </tr>\n",
       "    <tr>\n",
       "      <th>4</th>\n",
       "      <td>1.837237</td>\n",
       "      <td>평균일강수량(mm)</td>\n",
       "    </tr>\n",
       "    <tr>\n",
       "      <th>5</th>\n",
       "      <td>5.885389</td>\n",
       "      <td>일조합</td>\n",
       "    </tr>\n",
       "  </tbody>\n",
       "</table>\n",
       "</div>"
      ],
      "text/plain": [
       "   VIF Factor    features\n",
       "0   11.621080   평균습도(%rh)\n",
       "1    3.631355     체감온도(℃)\n",
       "2    1.137249    10만건당 건수\n",
       "3    8.686661  평균풍속(km/h)\n",
       "4    1.837237  평균일강수량(mm)\n",
       "5    5.885389         일조합"
      ]
     },
     "execution_count": 41,
     "metadata": {},
     "output_type": "execute_result"
    }
   ],
   "source": [
    "# VIF 계수 높은 일사합 변수 제거\n",
    "corr_df = corr_df.drop(['일사합'], axis=1)\n",
    "vif = pd.DataFrame()\n",
    "vif[\"VIF Factor\"] = [variance_inflation_factor(corr_df.values, i) for i in range(corr_df.shape[1])]\n",
    "vif[\"features\"] = corr_df.columns\n",
    "vif"
   ]
  },
  {
   "cell_type": "markdown",
   "metadata": {},
   "source": [
    "평균습도 변수도 VIF(분산팽창요인)가 10 이상으로 높은 편이지만, 일단은 보류\n",
    "\n",
    "다중공선성에 걸리는 독립 변수들을 **대체할 변수를 찾거나, 좀 더 새로운 변수를 탐색**해야 함"
   ]
  },
  {
   "cell_type": "code",
   "execution_count": 43,
   "metadata": {},
   "outputs": [
    {
     "name": "stdout",
     "output_type": "stream",
     "text": [
      "(2056899, 17)\n"
     ]
    },
    {
     "data": {
      "text/html": [
       "<div>\n",
       "<style scoped>\n",
       "    .dataframe tbody tr th:only-of-type {\n",
       "        vertical-align: middle;\n",
       "    }\n",
       "\n",
       "    .dataframe tbody tr th {\n",
       "        vertical-align: top;\n",
       "    }\n",
       "\n",
       "    .dataframe thead th {\n",
       "        text-align: right;\n",
       "    }\n",
       "</style>\n",
       "<table border=\"1\" class=\"dataframe\">\n",
       "  <thead>\n",
       "    <tr style=\"text-align: right;\">\n",
       "      <th></th>\n",
       "      <th>계절</th>\n",
       "      <th>월</th>\n",
       "      <th>일</th>\n",
       "      <th>요일</th>\n",
       "      <th>공휴일</th>\n",
       "      <th>성별</th>\n",
       "      <th>연령대</th>\n",
       "      <th>대분류명</th>\n",
       "      <th>소분류명</th>\n",
       "      <th>평균일강수량(mm)</th>\n",
       "      <th>평균풍속(km/h)</th>\n",
       "      <th>평균습도(%rh)</th>\n",
       "      <th>일조합</th>\n",
       "      <th>체감온도(℃)</th>\n",
       "      <th>일 미세먼지 농도(㎍/㎥)</th>\n",
       "      <th>10만건당 건수</th>\n",
       "      <th>구매건수</th>\n",
       "    </tr>\n",
       "  </thead>\n",
       "  <tbody>\n",
       "    <tr>\n",
       "      <th>0</th>\n",
       "      <td>겨울</td>\n",
       "      <td>1</td>\n",
       "      <td>1</td>\n",
       "      <td>0</td>\n",
       "      <td>1</td>\n",
       "      <td>F</td>\n",
       "      <td>20</td>\n",
       "      <td>식품</td>\n",
       "      <td>가공란</td>\n",
       "      <td>0.0</td>\n",
       "      <td>6.84</td>\n",
       "      <td>51.0</td>\n",
       "      <td>8.7</td>\n",
       "      <td>-2.810026</td>\n",
       "      <td>32.962963</td>\n",
       "      <td>0.480964</td>\n",
       "      <td>37</td>\n",
       "    </tr>\n",
       "    <tr>\n",
       "      <th>1</th>\n",
       "      <td>겨울</td>\n",
       "      <td>1</td>\n",
       "      <td>1</td>\n",
       "      <td>0</td>\n",
       "      <td>1</td>\n",
       "      <td>F</td>\n",
       "      <td>30</td>\n",
       "      <td>식품</td>\n",
       "      <td>가공란</td>\n",
       "      <td>0.0</td>\n",
       "      <td>6.84</td>\n",
       "      <td>51.0</td>\n",
       "      <td>8.7</td>\n",
       "      <td>-2.810026</td>\n",
       "      <td>32.962963</td>\n",
       "      <td>0.480964</td>\n",
       "      <td>16</td>\n",
       "    </tr>\n",
       "    <tr>\n",
       "      <th>2</th>\n",
       "      <td>겨울</td>\n",
       "      <td>1</td>\n",
       "      <td>1</td>\n",
       "      <td>0</td>\n",
       "      <td>1</td>\n",
       "      <td>F</td>\n",
       "      <td>40</td>\n",
       "      <td>식품</td>\n",
       "      <td>가공란</td>\n",
       "      <td>0.0</td>\n",
       "      <td>6.84</td>\n",
       "      <td>51.0</td>\n",
       "      <td>8.7</td>\n",
       "      <td>-2.810026</td>\n",
       "      <td>32.962963</td>\n",
       "      <td>0.480964</td>\n",
       "      <td>9</td>\n",
       "    </tr>\n",
       "  </tbody>\n",
       "</table>\n",
       "</div>"
      ],
      "text/plain": [
       "   계절  월  일 요일 공휴일 성별 연령대 대분류명 소분류명  평균일강수량(mm)  평균풍속(km/h)  평균습도(%rh)  일조합  \\\n",
       "0  겨울  1  1  0   1  F  20   식품  가공란         0.0        6.84       51.0  8.7   \n",
       "1  겨울  1  1  0   1  F  30   식품  가공란         0.0        6.84       51.0  8.7   \n",
       "2  겨울  1  1  0   1  F  40   식품  가공란         0.0        6.84       51.0  8.7   \n",
       "\n",
       "    체감온도(℃)  일 미세먼지 농도(㎍/㎥)  10만건당 건수  구매건수  \n",
       "0 -2.810026       32.962963  0.480964    37  \n",
       "1 -2.810026       32.962963  0.480964    16  \n",
       "2 -2.810026       32.962963  0.480964     9  "
      ]
     },
     "execution_count": 43,
     "metadata": {},
     "output_type": "execute_result"
    }
   ],
   "source": [
    "data4 = data3[['계절','월','일','요일','공휴일','성별','연령대','대분류명','소분류명',\\\n",
    "               '평균일강수량(mm)','평균풍속(km/h)','평균습도(%rh)','일조합',\\\n",
    "               '체감온도(℃)','일 미세먼지 농도(㎍/㎥)','10만건당 건수','구매건수']]\n",
    "print(data4.shape)\n",
    "data4.head(3)"
   ]
  },
  {
   "cell_type": "code",
   "execution_count": 45,
   "metadata": {},
   "outputs": [],
   "source": [
    "# data4.to_csv('./data/total_data.csv', index=False)"
   ]
  },
  {
   "cell_type": "code",
   "execution_count": null,
   "metadata": {},
   "outputs": [],
   "source": []
  }
 ],
 "metadata": {
  "kernelspec": {
   "display_name": "Python 3",
   "language": "python",
   "name": "python3"
  },
  "language_info": {
   "codemirror_mode": {
    "name": "ipython",
    "version": 3
   },
   "file_extension": ".py",
   "mimetype": "text/x-python",
   "name": "python",
   "nbconvert_exporter": "python",
   "pygments_lexer": "ipython3",
   "version": "3.8.3"
  },
  "toc": {
   "base_numbering": 1,
   "nav_menu": {},
   "number_sections": false,
   "sideBar": false,
   "skip_h1_title": false,
   "title_cell": "Table of Contents",
   "title_sidebar": "Contents",
   "toc_cell": true,
   "toc_position": {},
   "toc_section_display": true,
   "toc_window_display": false
  }
 },
 "nbformat": 4,
 "nbformat_minor": 4
}
