{
 "cells": [
  {
   "cell_type": "markdown",
   "metadata": {},
   "source": [
    "RandomForest Regression - 계절 별"
   ]
  },
  {
   "cell_type": "code",
   "execution_count": 1,
   "metadata": {},
   "outputs": [],
   "source": [
    "import numpy as np\n",
    "import pandas as pd\n",
    "import matplotlib.pyplot as plt\n",
    "import seaborn as sns\n",
    "%matplotlib inline\n",
    "from datetime import datetime\n",
    "from sklearn.preprocessing import LabelEncoder\n",
    "import warnings\n",
    "warnings.filterwarnings('ignore')\n",
    "\n",
    "from sklearn.model_selection import train_test_split, GridSearchCV\n",
    "from sklearn.ensemble import RandomForestRegressor\n",
    "from sklearn.metrics import mean_squared_error"
   ]
  },
  {
   "cell_type": "code",
   "execution_count": 2,
   "metadata": {},
   "outputs": [
    {
     "data": {
      "text/html": [
       "<div>\n",
       "<style scoped>\n",
       "    .dataframe tbody tr th:only-of-type {\n",
       "        vertical-align: middle;\n",
       "    }\n",
       "\n",
       "    .dataframe tbody tr th {\n",
       "        vertical-align: top;\n",
       "    }\n",
       "\n",
       "    .dataframe thead th {\n",
       "        text-align: right;\n",
       "    }\n",
       "</style>\n",
       "<table border=\"1\" class=\"dataframe\">\n",
       "  <thead>\n",
       "    <tr style=\"text-align: right;\">\n",
       "      <th></th>\n",
       "      <th>계절</th>\n",
       "      <th>월</th>\n",
       "      <th>일</th>\n",
       "      <th>요일</th>\n",
       "      <th>공휴일</th>\n",
       "      <th>성별</th>\n",
       "      <th>연령대</th>\n",
       "      <th>대분류명</th>\n",
       "      <th>소분류명</th>\n",
       "      <th>평균일강수량(mm)</th>\n",
       "      <th>평균풍속(km/h)</th>\n",
       "      <th>평균습도(%rh)</th>\n",
       "      <th>일조합</th>\n",
       "      <th>체감온도(℃)</th>\n",
       "      <th>일 미세먼지 농도(㎍/㎥)</th>\n",
       "      <th>10만건당 건수</th>\n",
       "      <th>구매건수</th>\n",
       "    </tr>\n",
       "  </thead>\n",
       "  <tbody>\n",
       "    <tr>\n",
       "      <th>389</th>\n",
       "      <td>겨울</td>\n",
       "      <td>1</td>\n",
       "      <td>1</td>\n",
       "      <td>0</td>\n",
       "      <td>1.0</td>\n",
       "      <td>F</td>\n",
       "      <td>20</td>\n",
       "      <td>뷰티</td>\n",
       "      <td>기능성 링클케어 화장품</td>\n",
       "      <td>0.0</td>\n",
       "      <td>6.84</td>\n",
       "      <td>51.0</td>\n",
       "      <td>8.7</td>\n",
       "      <td>-2.810026</td>\n",
       "      <td>32.962963</td>\n",
       "      <td>12.154295</td>\n",
       "      <td>2</td>\n",
       "    </tr>\n",
       "    <tr>\n",
       "      <th>390</th>\n",
       "      <td>겨울</td>\n",
       "      <td>1</td>\n",
       "      <td>1</td>\n",
       "      <td>0</td>\n",
       "      <td>1.0</td>\n",
       "      <td>F</td>\n",
       "      <td>40</td>\n",
       "      <td>뷰티</td>\n",
       "      <td>기능성 링클케어 화장품</td>\n",
       "      <td>0.0</td>\n",
       "      <td>6.84</td>\n",
       "      <td>51.0</td>\n",
       "      <td>8.7</td>\n",
       "      <td>-2.810026</td>\n",
       "      <td>32.962963</td>\n",
       "      <td>12.154295</td>\n",
       "      <td>1</td>\n",
       "    </tr>\n",
       "    <tr>\n",
       "      <th>391</th>\n",
       "      <td>겨울</td>\n",
       "      <td>1</td>\n",
       "      <td>1</td>\n",
       "      <td>0</td>\n",
       "      <td>1.0</td>\n",
       "      <td>F</td>\n",
       "      <td>20</td>\n",
       "      <td>뷰티</td>\n",
       "      <td>기능성 모공관리 화장품</td>\n",
       "      <td>0.0</td>\n",
       "      <td>6.84</td>\n",
       "      <td>51.0</td>\n",
       "      <td>8.7</td>\n",
       "      <td>-2.810026</td>\n",
       "      <td>32.962963</td>\n",
       "      <td>36.000828</td>\n",
       "      <td>7</td>\n",
       "    </tr>\n",
       "    <tr>\n",
       "      <th>392</th>\n",
       "      <td>겨울</td>\n",
       "      <td>1</td>\n",
       "      <td>1</td>\n",
       "      <td>0</td>\n",
       "      <td>1.0</td>\n",
       "      <td>F</td>\n",
       "      <td>30</td>\n",
       "      <td>뷰티</td>\n",
       "      <td>기능성 모공관리 화장품</td>\n",
       "      <td>0.0</td>\n",
       "      <td>6.84</td>\n",
       "      <td>51.0</td>\n",
       "      <td>8.7</td>\n",
       "      <td>-2.810026</td>\n",
       "      <td>32.962963</td>\n",
       "      <td>36.000828</td>\n",
       "      <td>3</td>\n",
       "    </tr>\n",
       "    <tr>\n",
       "      <th>393</th>\n",
       "      <td>겨울</td>\n",
       "      <td>1</td>\n",
       "      <td>1</td>\n",
       "      <td>0</td>\n",
       "      <td>1.0</td>\n",
       "      <td>F</td>\n",
       "      <td>40</td>\n",
       "      <td>뷰티</td>\n",
       "      <td>기능성 모공관리 화장품</td>\n",
       "      <td>0.0</td>\n",
       "      <td>6.84</td>\n",
       "      <td>51.0</td>\n",
       "      <td>8.7</td>\n",
       "      <td>-2.810026</td>\n",
       "      <td>32.962963</td>\n",
       "      <td>36.000828</td>\n",
       "      <td>1</td>\n",
       "    </tr>\n",
       "  </tbody>\n",
       "</table>\n",
       "</div>"
      ],
      "text/plain": [
       "     계절  월  일  요일  공휴일 성별  연령대 대분류명          소분류명  평균일강수량(mm)  평균풍속(km/h)  \\\n",
       "389  겨울  1  1   0  1.0  F   20   뷰티  기능성 링클케어 화장품         0.0        6.84   \n",
       "390  겨울  1  1   0  1.0  F   40   뷰티  기능성 링클케어 화장품         0.0        6.84   \n",
       "391  겨울  1  1   0  1.0  F   20   뷰티  기능성 모공관리 화장품         0.0        6.84   \n",
       "392  겨울  1  1   0  1.0  F   30   뷰티  기능성 모공관리 화장품         0.0        6.84   \n",
       "393  겨울  1  1   0  1.0  F   40   뷰티  기능성 모공관리 화장품         0.0        6.84   \n",
       "\n",
       "     평균습도(%rh)  일조합   체감온도(℃)  일 미세먼지 농도(㎍/㎥)   10만건당 건수  구매건수  \n",
       "389       51.0  8.7 -2.810026       32.962963  12.154295     2  \n",
       "390       51.0  8.7 -2.810026       32.962963  12.154295     1  \n",
       "391       51.0  8.7 -2.810026       32.962963  36.000828     7  \n",
       "392       51.0  8.7 -2.810026       32.962963  36.000828     3  \n",
       "393       51.0  8.7 -2.810026       32.962963  36.000828     1  "
      ]
     },
     "execution_count": 2,
     "metadata": {},
     "output_type": "execute_result"
    }
   ],
   "source": [
    "data = pd.read_csv('./data/total_data.csv')\n",
    "data = data[data['대분류명']=='뷰티']\n",
    "data.head()"
   ]
  },
  {
   "cell_type": "markdown",
   "metadata": {},
   "source": [
    "타깃 변수 로그 변환"
   ]
  },
  {
   "cell_type": "code",
   "execution_count": 3,
   "metadata": {},
   "outputs": [],
   "source": [
    "data['구매건수'] = np.log1p(data['구매건수'])"
   ]
  },
  {
   "cell_type": "code",
   "execution_count": 4,
   "metadata": {},
   "outputs": [
    {
     "data": {
      "text/plain": [
       "(697853, 17)"
      ]
     },
     "execution_count": 4,
     "metadata": {},
     "output_type": "execute_result"
    }
   ],
   "source": [
    "data.shape"
   ]
  },
  {
   "cell_type": "code",
   "execution_count": 5,
   "metadata": {},
   "outputs": [
    {
     "name": "stdout",
     "output_type": "stream",
     "text": [
      "<class 'pandas.core.frame.DataFrame'>\n",
      "Int64Index: 697853 entries, 389 to 2056849\n",
      "Data columns (total 14 columns):\n",
      " #   Column          Non-Null Count   Dtype  \n",
      "---  ------          --------------   -----  \n",
      " 0   계절              697853 non-null  object \n",
      " 1   월               697853 non-null  int64  \n",
      " 2   일               697853 non-null  int64  \n",
      " 3   요일              697853 non-null  int64  \n",
      " 4   공휴일             697853 non-null  float64\n",
      " 5   성별              697853 non-null  object \n",
      " 6   연령대             697853 non-null  int64  \n",
      " 7   소분류명            697853 non-null  object \n",
      " 8   평균일강수량(mm)      697853 non-null  float64\n",
      " 9   평균풍속(km/h)      697853 non-null  float64\n",
      " 10  체감온도(℃)         697853 non-null  float64\n",
      " 11  일 미세먼지 농도(㎍/㎥)  695969 non-null  float64\n",
      " 12  10만건당 건수        697853 non-null  float64\n",
      " 13  구매건수            697853 non-null  float64\n",
      "dtypes: float64(7), int64(4), object(3)\n",
      "memory usage: 79.9+ MB\n"
     ]
    }
   ],
   "source": [
    "data = data.drop(['대분류명','평균습도(%rh)','일조합'], axis=1)\n",
    "\n",
    "data.info()"
   ]
  },
  {
   "cell_type": "code",
   "execution_count": 6,
   "metadata": {},
   "outputs": [
    {
     "data": {
      "text/plain": [
       "계절                   0\n",
       "월                    0\n",
       "일                    0\n",
       "요일                   0\n",
       "공휴일                  0\n",
       "성별                   0\n",
       "연령대                  0\n",
       "소분류명                 0\n",
       "평균일강수량(mm)           0\n",
       "평균풍속(km/h)           0\n",
       "체감온도(℃)              0\n",
       "일 미세먼지 농도(㎍/㎥)    1884\n",
       "10만건당 건수             0\n",
       "구매건수                 0\n",
       "dtype: int64"
      ]
     },
     "execution_count": 6,
     "metadata": {},
     "output_type": "execute_result"
    }
   ],
   "source": [
    "data.isnull().sum()"
   ]
  },
  {
   "cell_type": "markdown",
   "metadata": {},
   "source": [
    "라벨인코딩"
   ]
  },
  {
   "cell_type": "code",
   "execution_count": 7,
   "metadata": {},
   "outputs": [],
   "source": [
    "data = data.dropna().reset_index(drop=True)\n",
    "data['성별'] = data['성별'].replace(['F','M'],[0,1])\n",
    "data['계절'] = data['계절'].replace(['봄','여름','가을','겨울'],[0,1,2,3])\n",
    "encoder = LabelEncoder()\n",
    "data['소분류명'] = encoder.fit_transform(data['소분류명'])"
   ]
  },
  {
   "cell_type": "code",
   "execution_count": 8,
   "metadata": {},
   "outputs": [
    {
     "name": "stdout",
     "output_type": "stream",
     "text": [
      "(178079, 14) (177458, 14) (169428, 14) (171004, 14)\n"
     ]
    }
   ],
   "source": [
    "봄 = data[data['계절']==0].reset_index(drop=True)\n",
    "여름 = data[data['계절']==1].reset_index(drop=True)\n",
    "가을 = data[data['계절']==2].reset_index(drop=True)\n",
    "겨울 = data[data['계절']==3].reset_index(drop=True)\n",
    "print(봄.shape, 여름.shape, 가을.shape, 겨울.shape)"
   ]
  },
  {
   "cell_type": "markdown",
   "metadata": {},
   "source": [
    "이상치 대체 함수"
   ]
  },
  {
   "cell_type": "code",
   "execution_count": 9,
   "metadata": {},
   "outputs": [],
   "source": [
    "def remove_outlier(data,column):\n",
    "    df = data[column]\n",
    "    # 1분위수\n",
    "    quan_25 = np.percentile(df.values, 25)    \n",
    "    # 3분위수\n",
    "    quan_75 = np.percentile(df.values, 75)    \n",
    "    iqr = quan_75 - quan_25   \n",
    "    lowest = quan_25 - iqr * 1.5\n",
    "    highest = quan_75 + iqr * 1.5\n",
    "    outlier_index = df[(df < lowest) | (df > highest)].index\n",
    "    print('outlier의 수 : ' , len(outlier_index))\n",
    "    # 평균으로 대체\n",
    "    df[outlier_index]=df.mean()    \n",
    "    return data"
   ]
  },
  {
   "cell_type": "code",
   "execution_count": 10,
   "metadata": {},
   "outputs": [
    {
     "name": "stdout",
     "output_type": "stream",
     "text": [
      "(178079, 14) (177458, 14) (169428, 14) (171004, 14)\n",
      "outlier의 수 :  34801\n",
      "outlier의 수 :  25012\n",
      "outlier의 수 :  28961\n",
      "outlier의 수 :  35392\n",
      "outlier의 수 :  5767\n",
      "outlier의 수 :  4690\n",
      "outlier의 수 :  10356\n",
      "outlier의 수 :  947\n",
      "outlier의 수 :  7724\n",
      "outlier의 수 :  0\n",
      "outlier의 수 :  10530\n",
      "outlier의 수 :  4708\n",
      "(178079, 14) (177458, 14) (169428, 14) (171004, 14)\n"
     ]
    }
   ],
   "source": [
    "print(봄.shape, 여름.shape, 가을.shape, 겨울.shape)\n",
    "candidate = ['평균일강수량(mm)', '평균풍속(km/h)', '일 미세먼지 농도(㎍/㎥)']\n",
    "for cand in candidate:  \n",
    "    봄 = remove_outlier(봄,cand)\n",
    "    여름 = remove_outlier(여름,cand)\n",
    "    가을 = remove_outlier(가을,cand)\n",
    "    겨울 = remove_outlier(겨울,cand)\n",
    "print(봄.shape, 여름.shape, 가을.shape, 겨울.shape)"
   ]
  },
  {
   "cell_type": "markdown",
   "metadata": {},
   "source": [
    "rmsle 계산 함수"
   ]
  },
  {
   "cell_type": "code",
   "execution_count": 11,
   "metadata": {},
   "outputs": [],
   "source": [
    "def rmsle(y_pred, y_test) :\n",
    "    assert len(y_test) == len(y_pred)\n",
    "    return np.sqrt(np.mean((np.log1p(y_pred) - np.log1p(y_test))**2))"
   ]
  },
  {
   "cell_type": "code",
   "execution_count": 12,
   "metadata": {},
   "outputs": [
    {
     "data": {
      "text/plain": [
       "(695969, 14)"
      ]
     },
     "execution_count": 12,
     "metadata": {},
     "output_type": "execute_result"
    }
   ],
   "source": [
    "df = pd.concat([봄,여름,가을,겨울]).reset_index(drop=True)\n",
    "df.shape"
   ]
  },
  {
   "cell_type": "code",
   "execution_count": 13,
   "metadata": {},
   "outputs": [
    {
     "name": "stdout",
     "output_type": "stream",
     "text": [
      "(178079, 14) (177458, 14) (169428, 14) (171004, 14)\n"
     ]
    }
   ],
   "source": [
    "봄 = data[data['계절']==0].reset_index(drop=True)\n",
    "여름 = data[data['계절']==1].reset_index(drop=True)\n",
    "가을 = data[data['계절']==2].reset_index(drop=True)\n",
    "겨울 = data[data['계절']==3].reset_index(drop=True)\n",
    "print(봄.shape, 여름.shape, 가을.shape, 겨울.shape)"
   ]
  },
  {
   "cell_type": "markdown",
   "metadata": {},
   "source": [
    "봄 RandomForest"
   ]
  },
  {
   "cell_type": "code",
   "execution_count": 19,
   "metadata": {},
   "outputs": [],
   "source": [
    "spring_X = 봄.drop(['구매건수'], axis=1, inplace=False)\n",
    "spring_y = 봄['구매건수']\n",
    "\n",
    "spring_X_train, spring_X_test, spring_y_train, spring_y_test = train_test_split(spring_X, spring_y,\n",
    "                                                                        test_size=0.3,\n",
    "                                                                        random_state=42)"
   ]
  },
  {
   "cell_type": "code",
   "execution_count": 20,
   "metadata": {},
   "outputs": [
    {
     "name": "stdout",
     "output_type": "stream",
     "text": [
      "RMSE : 0.4724293849522659\n"
     ]
    }
   ],
   "source": [
    "spring_rf = RandomForestRegressor(bootstrap=True, ccp_alpha=0.0, criterion='mse',\n",
    "                      max_depth=None, max_features='auto', max_leaf_nodes=None,\n",
    "                      max_samples=None, min_impurity_decrease=0.0,\n",
    "                      min_impurity_split=None, min_samples_leaf=1,\n",
    "                      min_samples_split=2, min_weight_fraction_leaf=0.0,\n",
    "                      n_estimators=100, n_jobs=-1, oob_score=False,\n",
    "                      random_state=42, verbose=0, warm_start=False)\n",
    "spring_rf.fit(spring_X_train,spring_y_train)\n",
    "spring_pred = spring_rf.predict(spring_X_test)\n",
    "print('RMSE :', mean_squared_error(spring_pred, spring_y_test)**0.5)"
   ]
  },
  {
   "cell_type": "code",
   "execution_count": 23,
   "metadata": {},
   "outputs": [
    {
     "name": "stdout",
     "output_type": "stream",
     "text": [
      "RMSLE : 0.1701834719104395\n"
     ]
    }
   ],
   "source": [
    "print('RMSLE :', rmsle(spring_pred, spring_y_test))"
   ]
  },
  {
   "cell_type": "markdown",
   "metadata": {},
   "source": [
    "여름 RandomForest"
   ]
  },
  {
   "cell_type": "code",
   "execution_count": 21,
   "metadata": {},
   "outputs": [],
   "source": [
    "summer_X = 여름.drop(['구매건수'], axis=1, inplace=False)\n",
    "summer_y = 여름['구매건수']\n",
    "\n",
    "summer_X_train, summer_X_test, summer_y_train, summer_y_test = train_test_split(summer_X, summer_y,\n",
    "                                                                        test_size=0.3,\n",
    "                                                                        random_state=42)"
   ]
  },
  {
   "cell_type": "code",
   "execution_count": 22,
   "metadata": {},
   "outputs": [
    {
     "name": "stdout",
     "output_type": "stream",
     "text": [
      "RMSE : 0.43179087558703316\n"
     ]
    }
   ],
   "source": [
    "summer_rf = RandomForestRegressor(bootstrap=True, ccp_alpha=0.0, criterion='mse',\n",
    "                      max_depth=None, max_features='auto', max_leaf_nodes=None,\n",
    "                      max_samples=None, min_impurity_decrease=0.0,\n",
    "                      min_impurity_split=None, min_samples_leaf=1,\n",
    "                      min_samples_split=2, min_weight_fraction_leaf=0.0,\n",
    "                      n_estimators=100, n_jobs=-1, oob_score=False,\n",
    "                      random_state=42, verbose=0, warm_start=False)\n",
    "summer_rf.fit(summer_X_train,summer_y_train)\n",
    "summer_pred = summer_rf.predict(summer_X_test)\n",
    "print('RMSE :', mean_squared_error(summer_pred, summer_y_test)**0.5)"
   ]
  },
  {
   "cell_type": "code",
   "execution_count": 24,
   "metadata": {},
   "outputs": [
    {
     "name": "stdout",
     "output_type": "stream",
     "text": [
      "RMSLE : 0.16126974114203585\n"
     ]
    }
   ],
   "source": [
    "print('RMSLE :', rmsle(summer_pred, summer_y_test))"
   ]
  },
  {
   "cell_type": "markdown",
   "metadata": {},
   "source": [
    "가을 RandomForest"
   ]
  },
  {
   "cell_type": "code",
   "execution_count": 15,
   "metadata": {},
   "outputs": [],
   "source": [
    "fall_X = 가을.drop(['구매건수'], axis=1, inplace=False)\n",
    "fall_y = 가을['구매건수']\n",
    "\n",
    "fall_X_train, fall_X_test, fall_y_train, fall_y_test = train_test_split(fall_X, fall_y,\n",
    "                                                                        test_size=0.3,\n",
    "                                                                        random_state=42)"
   ]
  },
  {
   "cell_type": "code",
   "execution_count": 16,
   "metadata": {},
   "outputs": [
    {
     "name": "stdout",
     "output_type": "stream",
     "text": [
      "RMSE : 0.4258987449465712\n"
     ]
    }
   ],
   "source": [
    "fall_rf = RandomForestRegressor(bootstrap=True, ccp_alpha=0.0, criterion='mse',\n",
    "                      max_depth=None, max_features='auto', max_leaf_nodes=None,\n",
    "                      max_samples=None, min_impurity_decrease=0.0,\n",
    "                      min_impurity_split=None, min_samples_leaf=1,\n",
    "                      min_samples_split=2, min_weight_fraction_leaf=0.0,\n",
    "                      n_estimators=100, n_jobs=-1, oob_score=False,\n",
    "                      random_state=42, verbose=0, warm_start=False)\n",
    "fall_rf.fit(fall_X_train,fall_y_train)\n",
    "fall_pred = fall_rf.predict(fall_X_test)\n",
    "print('RMSE :', mean_squared_error(fall_pred, fall_y_test)**0.5)"
   ]
  },
  {
   "cell_type": "code",
   "execution_count": 25,
   "metadata": {},
   "outputs": [
    {
     "name": "stdout",
     "output_type": "stream",
     "text": [
      "RMSLE : 0.15903517298887615\n"
     ]
    }
   ],
   "source": [
    "print('RMSLE :', rmsle(fall_pred, fall_y_test))"
   ]
  },
  {
   "cell_type": "markdown",
   "metadata": {},
   "source": [
    "겨울 RandomForest"
   ]
  },
  {
   "cell_type": "code",
   "execution_count": 17,
   "metadata": {},
   "outputs": [],
   "source": [
    "winter_X = 겨울.drop(['구매건수'], axis=1, inplace=False)\n",
    "winter_y = 겨울['구매건수']\n",
    "\n",
    "winter_X_train, winter_X_test, winter_y_train, winter_y_test = train_test_split(winter_X, winter_y,\n",
    "                                                                        test_size=0.3,\n",
    "                                                                        random_state=42)"
   ]
  },
  {
   "cell_type": "code",
   "execution_count": 18,
   "metadata": {},
   "outputs": [
    {
     "name": "stdout",
     "output_type": "stream",
     "text": [
      "RMSE : 0.4381070739255093\n"
     ]
    }
   ],
   "source": [
    "winter_rf = RandomForestRegressor(bootstrap=True, ccp_alpha=0.0, criterion='mse',\n",
    "                      max_depth=None, max_features='auto', max_leaf_nodes=None,\n",
    "                      max_samples=None, min_impurity_decrease=0.0,\n",
    "                      min_impurity_split=None, min_samples_leaf=1,\n",
    "                      min_samples_split=2, min_weight_fraction_leaf=0.0,\n",
    "                      n_estimators=100, n_jobs=-1, oob_score=False,\n",
    "                      random_state=42, verbose=0, warm_start=False)\n",
    "winter_rf.fit(winter_X_train,winter_y_train)\n",
    "winter_pred = winter_rf.predict(winter_X_test)\n",
    "print('RMSE :', mean_squared_error(winter_pred, winter_y_test)**0.5)"
   ]
  },
  {
   "cell_type": "code",
   "execution_count": 26,
   "metadata": {},
   "outputs": [
    {
     "name": "stdout",
     "output_type": "stream",
     "text": [
      "RMSLE : 0.16208348509198328\n"
     ]
    }
   ],
   "source": [
    "print('RMSLE :', rmsle(winter_pred, winter_y_test))"
   ]
  }
 ],
 "metadata": {
  "kernelspec": {
   "display_name": "Python 3",
   "language": "python",
   "name": "python3"
  },
  "language_info": {
   "codemirror_mode": {
    "name": "ipython",
    "version": 3
   },
   "file_extension": ".py",
   "mimetype": "text/x-python",
   "name": "python",
   "nbconvert_exporter": "python",
   "pygments_lexer": "ipython3",
   "version": "3.8.5"
  }
 },
 "nbformat": 4,
 "nbformat_minor": 4
}
